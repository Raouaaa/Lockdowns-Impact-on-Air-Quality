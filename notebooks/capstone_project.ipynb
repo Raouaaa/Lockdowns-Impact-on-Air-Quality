{
 "cells": [
  {
   "cell_type": "code",
   "execution_count": 9,
   "metadata": {},
   "outputs": [
    {
     "name": "stdout",
     "output_type": "stream",
     "text": [
      "<class 'pandas.core.frame.DataFrame'>\n",
      "Int64Index: 507 entries, 0 to 199\n",
      "Data columns (total 5 columns):\n",
      " #   Column          Non-Null Count  Dtype         \n",
      "---  ------          --------------  -----         \n",
      " 0   Country/Region  507 non-null    object        \n",
      " 1   Province        129 non-null    object        \n",
      " 2   Date            364 non-null    datetime64[ns]\n",
      " 3   Type            441 non-null    object        \n",
      " 4   Reference       373 non-null    object        \n",
      "dtypes: datetime64[ns](1), object(4)\n",
      "memory usage: 23.8+ KB\n"
     ]
    }
   ],
   "source": [
    "import pandas as pd\n",
    "import numpy as np\n",
    "\n",
    "# The function that returns the dataframe of all Air quality data from 2019 to 2021\n",
    "def main_dataFrame():\n",
    "    df_2021 = pd.read_csv('../data/waqi-covid19-airqualitydata-2020.csv', skiprows=4, engine='python')\n",
    "\n",
    "    df_2020Q1 = pd.read_csv('../data/waqi-covid19-airqualitydata-2020Q1.csv', skiprows=4, engine='python')\n",
    "    df_2020Q2 = pd.read_csv('../data/waqi-covid19-airqualitydata-2020Q2.csv', skiprows=4, engine='python')\n",
    "    df_2020Q3 = pd.read_csv('../data/waqi-covid19-airqualitydata-2020Q3.csv', skiprows=4, engine='python')\n",
    "    df_2020Q4 = pd.read_csv('../data/waqi-covid19-airqualitydata-2020Q4.csv', skiprows=4, engine='python')\n",
    "    df_2020 = pd.concat([df_2020Q1, df_2020Q2, df_2020Q3, df_2020Q4])\n",
    "\n",
    "    df_2019Q1 = pd.read_csv('../data/waqi-covid19-airqualitydata-2019Q1.csv', skiprows=4, engine='python')\n",
    "    df_2019Q2 = pd.read_csv('../data/waqi-covid19-airqualitydata-2019Q2.csv', skiprows=4, engine='python')\n",
    "    df_2019Q3 = pd.read_csv('../data/waqi-covid19-airqualitydata-2019Q3.csv', skiprows=4, engine='python')\n",
    "    df_2019Q4 = pd.read_csv('../data/waqi-covid19-airqualitydata-2019Q4.csv', skiprows=4, engine='python')\n",
    "    df_2019 = pd.concat([df_2019Q1, df_2019Q2, df_2019Q3, df_2019Q4])\n",
    "\n",
    "    df_2021_2020_2019 = pd.concat([df_2021, df_2020, df_2019])\n",
    "    df_2021_2020_2019['Date'] = pd.to_datetime(df_2021_2020_2019['Date'])\n",
    "    return df_2021_2020_2019\n",
    "\n",
    "\n",
    "df_lockdown_dates = pd.read_csv('../data/countryLockdowndates.csv', engine='python')\n",
    "df_lockdown_datesJHUMatch = pd.read_csv('../data/countryLockdowndatesJHUMatch.csv', engine='python')\n",
    "df_lockdown_dates_full = pd.concat([df_lockdown_dates, df_lockdown_datesJHUMatch])\n",
    "df_lockdown_dates_full['Date'] = pd.to_datetime(df_lockdown_dates_full['Date'])\n",
    "\n",
    "#print(df_2021_2020_2019.head())\n",
    "df_lockdown_dates_full.info()"
   ]
  },
  {
   "cell_type": "code",
   "execution_count": 10,
   "metadata": {},
   "outputs": [],
   "source": [
    "# The function which returns the dataframe by filtering one specific specie\n",
    "def dataFrame_by_specie(specie):\n",
    "    df = main_dataFrame()\n",
    "    df_2021_2020_2019_specie = df[df['Specie']==specie]\n",
    "    df_2021_2020_2019_specie = df_2021_2020_2019_specie[['Date', 'Country', 'City', 'max']]\n",
    "    df_2021_2020_specie = df_2021_2020_2019_specie[df_2021_2020_2019_specie['Date']>= \"2020-01-01\"]\n",
    "    return df_2021_2020_specie"
   ]
  },
  {
   "cell_type": "code",
   "execution_count": 11,
   "metadata": {},
   "outputs": [
    {
     "data": {
      "text/plain": [
       "['Jerusalem',\n",
       " 'Delhi',\n",
       " 'Tel Aviv',\n",
       " 'Mérida',\n",
       " 'Tehran',\n",
       " 'Istanbul',\n",
       " 'Khorramabad',\n",
       " 'Seoul',\n",
       " 'Lucknow',\n",
       " 'Isfahan']"
      ]
     },
     "execution_count": 11,
     "metadata": {},
     "output_type": "execute_result"
    }
   ],
   "source": [
    "# The function which returns the list of the top ten cities on max by filtering the whole dataframe on one specific specie\n",
    "def top_ten_cities_by_specie(specie):\n",
    "    df_2021_2020_specie = dataFrame_by_specie(specie)\n",
    "    df_2021_2020_specie_byCity = df_2021_2020_specie.groupby('City').agg({\"max\":np.average})\n",
    "    df_2021_2020_specie_byCity = df_2021_2020_specie_byCity.sort_values(by=['max'], ascending=False)\n",
    "    top_ten_cities_by_specie = df_2021_2020_specie_byCity.index[0:10].to_list()    \n",
    "    return top_ten_cities_by_specie\n",
    "\n",
    "top_ten_cities_by_specie('no2')"
   ]
  },
  {
   "cell_type": "code",
   "execution_count": 12,
   "metadata": {},
   "outputs": [
    {
     "data": {
      "text/plain": [
       "['HK', 'IL', 'IR', 'TR', 'KR', 'IN', 'MO', 'MK', 'AE', 'GR']"
      ]
     },
     "execution_count": 12,
     "metadata": {},
     "output_type": "execute_result"
    }
   ],
   "source": [
    "# The function which returns the list of the top ten countries on the average_max by filtering the whole dataframe on one specific specie\n",
    "def top_ten_countries_by_specie(specie):\n",
    "    df_2021_2020_specie = dataFrame_by_specie(specie)\n",
    "    df_2021_2020_specie_byCountry = df_2021_2020_specie.groupby('Country').agg({\"max\":np.average})\n",
    "    df_2021_2020_specie_byCountry = df_2021_2020_specie_byCountry.sort_values(by=['max'], ascending=False)\n",
    "    top_ten_countries_by_specie = df_2021_2020_specie_byCountry.index[0:10].to_list()    \n",
    "    return top_ten_countries_by_specie\n",
    "\n",
    "top_ten_countries_by_specie('no2')"
   ]
  },
  {
   "cell_type": "code",
   "execution_count": 13,
   "metadata": {},
   "outputs": [
    {
     "data": {
      "text/html": [
       "<div>\n",
       "<style scoped>\n",
       "    .dataframe tbody tr th:only-of-type {\n",
       "        vertical-align: middle;\n",
       "    }\n",
       "\n",
       "    .dataframe tbody tr th {\n",
       "        vertical-align: top;\n",
       "    }\n",
       "\n",
       "    .dataframe thead th {\n",
       "        text-align: right;\n",
       "    }\n",
       "</style>\n",
       "<table border=\"1\" class=\"dataframe\">\n",
       "  <thead>\n",
       "    <tr style=\"text-align: right;\">\n",
       "      <th></th>\n",
       "      <th>Date</th>\n",
       "      <th>Country</th>\n",
       "      <th>City</th>\n",
       "      <th>max</th>\n",
       "    </tr>\n",
       "  </thead>\n",
       "  <tbody>\n",
       "    <tr>\n",
       "      <th>486131</th>\n",
       "      <td>2020-03-09</td>\n",
       "      <td>IL</td>\n",
       "      <td>Jerusalem</td>\n",
       "      <td>151.8</td>\n",
       "    </tr>\n",
       "    <tr>\n",
       "      <th>486132</th>\n",
       "      <td>2020-03-12</td>\n",
       "      <td>IL</td>\n",
       "      <td>Jerusalem</td>\n",
       "      <td>146.6</td>\n",
       "    </tr>\n",
       "    <tr>\n",
       "      <th>486133</th>\n",
       "      <td>2020-03-26</td>\n",
       "      <td>IL</td>\n",
       "      <td>Jerusalem</td>\n",
       "      <td>69.9</td>\n",
       "    </tr>\n",
       "    <tr>\n",
       "      <th>486134</th>\n",
       "      <td>2020-01-05</td>\n",
       "      <td>IL</td>\n",
       "      <td>Jerusalem</td>\n",
       "      <td>117.4</td>\n",
       "    </tr>\n",
       "    <tr>\n",
       "      <th>486135</th>\n",
       "      <td>2020-02-25</td>\n",
       "      <td>IL</td>\n",
       "      <td>Jerusalem</td>\n",
       "      <td>117.1</td>\n",
       "    </tr>\n",
       "    <tr>\n",
       "      <th>...</th>\n",
       "      <td>...</td>\n",
       "      <td>...</td>\n",
       "      <td>...</td>\n",
       "      <td>...</td>\n",
       "    </tr>\n",
       "    <tr>\n",
       "      <th>246767</th>\n",
       "      <td>2020-01-02</td>\n",
       "      <td>IL</td>\n",
       "      <td>Jerusalem</td>\n",
       "      <td>161.7</td>\n",
       "    </tr>\n",
       "    <tr>\n",
       "      <th>246774</th>\n",
       "      <td>2020-01-01</td>\n",
       "      <td>IL</td>\n",
       "      <td>Jerusalem</td>\n",
       "      <td>7.5</td>\n",
       "    </tr>\n",
       "    <tr>\n",
       "      <th>246801</th>\n",
       "      <td>2020-01-05</td>\n",
       "      <td>IL</td>\n",
       "      <td>Jerusalem</td>\n",
       "      <td>117.4</td>\n",
       "    </tr>\n",
       "    <tr>\n",
       "      <th>246807</th>\n",
       "      <td>2020-01-03</td>\n",
       "      <td>IL</td>\n",
       "      <td>Jerusalem</td>\n",
       "      <td>133.7</td>\n",
       "    </tr>\n",
       "    <tr>\n",
       "      <th>246808</th>\n",
       "      <td>2020-01-04</td>\n",
       "      <td>IL</td>\n",
       "      <td>Jerusalem</td>\n",
       "      <td>108.9</td>\n",
       "    </tr>\n",
       "  </tbody>\n",
       "</table>\n",
       "<p>395 rows × 4 columns</p>\n",
       "</div>"
      ],
      "text/plain": [
       "             Date Country       City    max\n",
       "486131 2020-03-09      IL  Jerusalem  151.8\n",
       "486132 2020-03-12      IL  Jerusalem  146.6\n",
       "486133 2020-03-26      IL  Jerusalem   69.9\n",
       "486134 2020-01-05      IL  Jerusalem  117.4\n",
       "486135 2020-02-25      IL  Jerusalem  117.1\n",
       "...           ...     ...        ...    ...\n",
       "246767 2020-01-02      IL  Jerusalem  161.7\n",
       "246774 2020-01-01      IL  Jerusalem    7.5\n",
       "246801 2020-01-05      IL  Jerusalem  117.4\n",
       "246807 2020-01-03      IL  Jerusalem  133.7\n",
       "246808 2020-01-04      IL  Jerusalem  108.9\n",
       "\n",
       "[395 rows x 4 columns]"
      ]
     },
     "execution_count": 13,
     "metadata": {},
     "output_type": "execute_result"
    }
   ],
   "source": [
    "#print(df_2021_2020_2019['Specie'].unique())\n",
    "\n",
    "# The function which returns a dataframe by filtering the whole dataframe on one specific specie and one single city\n",
    "def dataFrame_one_specie_by_one_city(specie,city):\n",
    "    df_2021_2020_specie = dataFrame_by_specie(specie)\n",
    "    df_2020_2021_specie_byCity = df_2021_2020_specie[df_2021_2020_specie['City']== city]\n",
    "    return df_2020_2021_specie_byCity\n",
    "dataFrame_one_specie_by_one_city('no2','Jerusalem')    "
   ]
  },
  {
   "cell_type": "code",
   "execution_count": 14,
   "metadata": {},
   "outputs": [
    {
     "data": {
      "text/html": [
       "<div>\n",
       "<style scoped>\n",
       "    .dataframe tbody tr th:only-of-type {\n",
       "        vertical-align: middle;\n",
       "    }\n",
       "\n",
       "    .dataframe tbody tr th {\n",
       "        vertical-align: top;\n",
       "    }\n",
       "\n",
       "    .dataframe thead th {\n",
       "        text-align: right;\n",
       "    }\n",
       "</style>\n",
       "<table border=\"1\" class=\"dataframe\">\n",
       "  <thead>\n",
       "    <tr style=\"text-align: right;\">\n",
       "      <th></th>\n",
       "      <th>Date</th>\n",
       "      <th>Country</th>\n",
       "      <th>City</th>\n",
       "      <th>max</th>\n",
       "    </tr>\n",
       "  </thead>\n",
       "  <tbody>\n",
       "    <tr>\n",
       "      <th>270732</th>\n",
       "      <td>2020-02-20</td>\n",
       "      <td>US</td>\n",
       "      <td>Oklahoma City</td>\n",
       "      <td>9.3</td>\n",
       "    </tr>\n",
       "    <tr>\n",
       "      <th>270733</th>\n",
       "      <td>2020-02-26</td>\n",
       "      <td>US</td>\n",
       "      <td>Oklahoma City</td>\n",
       "      <td>29.7</td>\n",
       "    </tr>\n",
       "    <tr>\n",
       "      <th>270734</th>\n",
       "      <td>2020-03-01</td>\n",
       "      <td>US</td>\n",
       "      <td>Oklahoma City</td>\n",
       "      <td>28.8</td>\n",
       "    </tr>\n",
       "    <tr>\n",
       "      <th>270735</th>\n",
       "      <td>2020-03-15</td>\n",
       "      <td>US</td>\n",
       "      <td>Oklahoma City</td>\n",
       "      <td>8.4</td>\n",
       "    </tr>\n",
       "    <tr>\n",
       "      <th>270736</th>\n",
       "      <td>2020-03-23</td>\n",
       "      <td>US</td>\n",
       "      <td>Oklahoma City</td>\n",
       "      <td>11.2</td>\n",
       "    </tr>\n",
       "    <tr>\n",
       "      <th>...</th>\n",
       "      <td>...</td>\n",
       "      <td>...</td>\n",
       "      <td>...</td>\n",
       "      <td>...</td>\n",
       "    </tr>\n",
       "    <tr>\n",
       "      <th>87209</th>\n",
       "      <td>2020-01-04</td>\n",
       "      <td>US</td>\n",
       "      <td>Queens</td>\n",
       "      <td>27.9</td>\n",
       "    </tr>\n",
       "    <tr>\n",
       "      <th>87215</th>\n",
       "      <td>2020-01-02</td>\n",
       "      <td>US</td>\n",
       "      <td>Queens</td>\n",
       "      <td>38.9</td>\n",
       "    </tr>\n",
       "    <tr>\n",
       "      <th>87226</th>\n",
       "      <td>2020-01-01</td>\n",
       "      <td>US</td>\n",
       "      <td>Queens</td>\n",
       "      <td>16.3</td>\n",
       "    </tr>\n",
       "    <tr>\n",
       "      <th>87227</th>\n",
       "      <td>2020-01-03</td>\n",
       "      <td>US</td>\n",
       "      <td>Queens</td>\n",
       "      <td>34.3</td>\n",
       "    </tr>\n",
       "    <tr>\n",
       "      <th>87236</th>\n",
       "      <td>2020-01-05</td>\n",
       "      <td>US</td>\n",
       "      <td>Queens</td>\n",
       "      <td>17.0</td>\n",
       "    </tr>\n",
       "  </tbody>\n",
       "</table>\n",
       "<p>15424 rows × 4 columns</p>\n",
       "</div>"
      ],
      "text/plain": [
       "             Date Country           City   max\n",
       "270732 2020-02-20      US  Oklahoma City   9.3\n",
       "270733 2020-02-26      US  Oklahoma City  29.7\n",
       "270734 2020-03-01      US  Oklahoma City  28.8\n",
       "270735 2020-03-15      US  Oklahoma City   8.4\n",
       "270736 2020-03-23      US  Oklahoma City  11.2\n",
       "...           ...     ...            ...   ...\n",
       "87209  2020-01-04      US         Queens  27.9\n",
       "87215  2020-01-02      US         Queens  38.9\n",
       "87226  2020-01-01      US         Queens  16.3\n",
       "87227  2020-01-03      US         Queens  34.3\n",
       "87236  2020-01-05      US         Queens  17.0\n",
       "\n",
       "[15424 rows x 4 columns]"
      ]
     },
     "execution_count": 14,
     "metadata": {},
     "output_type": "execute_result"
    }
   ],
   "source": [
    "# The function which returns a dataframe by filtering the whole dataframe on one specific specie and one single country\n",
    "def dataFrame_one_specie_by_one_country(specie,country):\n",
    "    df_2021_2020_specie = dataFrame_by_specie(specie)\n",
    "    df_2020_2021_specie_byCountry = df_2021_2020_specie[df_2021_2020_specie['Country']== country]\n",
    "    return df_2020_2021_specie_byCountry\n",
    "dataFrame_one_specie_by_one_country('no2','US')   "
   ]
  },
  {
   "cell_type": "code",
   "execution_count": 15,
   "metadata": {},
   "outputs": [
    {
     "data": {
      "text/html": [
       "<div>\n",
       "<style scoped>\n",
       "    .dataframe tbody tr th:only-of-type {\n",
       "        vertical-align: middle;\n",
       "    }\n",
       "\n",
       "    .dataframe tbody tr th {\n",
       "        vertical-align: top;\n",
       "    }\n",
       "\n",
       "    .dataframe thead th {\n",
       "        text-align: right;\n",
       "    }\n",
       "</style>\n",
       "<table border=\"1\" class=\"dataframe\">\n",
       "  <thead>\n",
       "    <tr style=\"text-align: right;\">\n",
       "      <th></th>\n",
       "      <th>max</th>\n",
       "    </tr>\n",
       "    <tr>\n",
       "      <th>City</th>\n",
       "      <th></th>\n",
       "    </tr>\n",
       "  </thead>\n",
       "  <tbody>\n",
       "    <tr>\n",
       "      <th>Jerusalem</th>\n",
       "      <td>113.108861</td>\n",
       "    </tr>\n",
       "    <tr>\n",
       "      <th>Delhi</th>\n",
       "      <td>112.096356</td>\n",
       "    </tr>\n",
       "    <tr>\n",
       "      <th>Tel Aviv</th>\n",
       "      <td>104.143038</td>\n",
       "    </tr>\n",
       "    <tr>\n",
       "      <th>Mérida</th>\n",
       "      <td>101.600000</td>\n",
       "    </tr>\n",
       "    <tr>\n",
       "      <th>Tehran</th>\n",
       "      <td>95.522059</td>\n",
       "    </tr>\n",
       "    <tr>\n",
       "      <th>Istanbul</th>\n",
       "      <td>86.490952</td>\n",
       "    </tr>\n",
       "    <tr>\n",
       "      <th>Khorramabad</th>\n",
       "      <td>73.844691</td>\n",
       "    </tr>\n",
       "    <tr>\n",
       "      <th>Seoul</th>\n",
       "      <td>73.827089</td>\n",
       "    </tr>\n",
       "    <tr>\n",
       "      <th>Lucknow</th>\n",
       "      <td>67.446921</td>\n",
       "    </tr>\n",
       "    <tr>\n",
       "      <th>Isfahan</th>\n",
       "      <td>62.338710</td>\n",
       "    </tr>\n",
       "  </tbody>\n",
       "</table>\n",
       "</div>"
      ],
      "text/plain": [
       "                    max\n",
       "City                   \n",
       "Jerusalem    113.108861\n",
       "Delhi        112.096356\n",
       "Tel Aviv     104.143038\n",
       "Mérida       101.600000\n",
       "Tehran        95.522059\n",
       "Istanbul      86.490952\n",
       "Khorramabad   73.844691\n",
       "Seoul         73.827089\n",
       "Lucknow       67.446921\n",
       "Isfahan       62.338710"
      ]
     },
     "execution_count": 15,
     "metadata": {},
     "output_type": "execute_result"
    }
   ],
   "source": [
    "# The function which returns a dataframe of the top ten cities on the average_max of one specific specie \n",
    "def dataframe_top_ten_cities_by_specie(specie):\n",
    "\n",
    "    df_2021_2020_specie = dataFrame_by_specie(specie)\n",
    "    df_2021_2020_specie_byCity = df_2021_2020_specie.groupby('City').agg({\"max\":np.average})\n",
    "    df_2021_2020_specie_byCity = df_2021_2020_specie_byCity.sort_values(by=['max'], ascending=False)\n",
    "    df_top_ten_cities_by_specie = df_2021_2020_specie_byCity.head(10)    \n",
    "    return df_top_ten_cities_by_specie\n",
    "\n",
    "dataframe_top_ten_cities_by_specie('no2')"
   ]
  },
  {
   "cell_type": "code",
   "execution_count": 16,
   "metadata": {},
   "outputs": [
    {
     "data": {
      "text/html": [
       "<div>\n",
       "<style scoped>\n",
       "    .dataframe tbody tr th:only-of-type {\n",
       "        vertical-align: middle;\n",
       "    }\n",
       "\n",
       "    .dataframe tbody tr th {\n",
       "        vertical-align: top;\n",
       "    }\n",
       "\n",
       "    .dataframe thead th {\n",
       "        text-align: right;\n",
       "    }\n",
       "</style>\n",
       "<table border=\"1\" class=\"dataframe\">\n",
       "  <thead>\n",
       "    <tr style=\"text-align: right;\">\n",
       "      <th></th>\n",
       "      <th>max</th>\n",
       "    </tr>\n",
       "    <tr>\n",
       "      <th>Country</th>\n",
       "      <th></th>\n",
       "    </tr>\n",
       "  </thead>\n",
       "  <tbody>\n",
       "    <tr>\n",
       "      <th>HK</th>\n",
       "      <td>61.093924</td>\n",
       "    </tr>\n",
       "    <tr>\n",
       "      <th>IL</th>\n",
       "      <td>55.897215</td>\n",
       "    </tr>\n",
       "    <tr>\n",
       "      <th>IR</th>\n",
       "      <td>45.523226</td>\n",
       "    </tr>\n",
       "    <tr>\n",
       "      <th>TR</th>\n",
       "      <td>41.919021</td>\n",
       "    </tr>\n",
       "    <tr>\n",
       "      <th>KR</th>\n",
       "      <td>40.327573</td>\n",
       "    </tr>\n",
       "    <tr>\n",
       "      <th>IN</th>\n",
       "      <td>39.566404</td>\n",
       "    </tr>\n",
       "    <tr>\n",
       "      <th>MO</th>\n",
       "      <td>37.311095</td>\n",
       "    </tr>\n",
       "    <tr>\n",
       "      <th>MK</th>\n",
       "      <td>36.201347</td>\n",
       "    </tr>\n",
       "    <tr>\n",
       "      <th>AE</th>\n",
       "      <td>34.858481</td>\n",
       "    </tr>\n",
       "    <tr>\n",
       "      <th>GR</th>\n",
       "      <td>34.331107</td>\n",
       "    </tr>\n",
       "  </tbody>\n",
       "</table>\n",
       "</div>"
      ],
      "text/plain": [
       "               max\n",
       "Country           \n",
       "HK       61.093924\n",
       "IL       55.897215\n",
       "IR       45.523226\n",
       "TR       41.919021\n",
       "KR       40.327573\n",
       "IN       39.566404\n",
       "MO       37.311095\n",
       "MK       36.201347\n",
       "AE       34.858481\n",
       "GR       34.331107"
      ]
     },
     "execution_count": 16,
     "metadata": {},
     "output_type": "execute_result"
    }
   ],
   "source": [
    "# The function which returns a dataframe of the top ten countries on the average_max of one specific specie \n",
    "def dataframe_top_ten_countries_by_specie(specie):\n",
    "    df_2021_2020_specie = dataFrame_by_specie(specie)\n",
    "    df_2021_2020_specie_byCountry = df_2021_2020_specie.groupby('Country').agg({\"max\":np.average})\n",
    "    df_2021_2020_specie_byCountry = df_2021_2020_specie_byCountry.sort_values(by=['max'], ascending=False)\n",
    "    df_top_ten_countries_by_specie = df_2021_2020_specie_byCountry.head(10)    \n",
    "    return df_top_ten_countries_by_specie\n",
    "\n",
    "dataframe_top_ten_countries_by_specie('no2')"
   ]
  },
  {
   "cell_type": "code",
   "execution_count": 17,
   "metadata": {},
   "outputs": [
    {
     "data": {
      "image/png": "[encoded data removed]",
      "text/plain": [
       "<Figure size 432x288 with 1 Axes>"
      ]
     },
     "metadata": {
      "needs_background": "light"
     },
     "output_type": "display_data"
    }
   ],
   "source": [
    "import matplotlib.pyplot as plt\n",
    "df = dataframe_top_ten_cities_by_specie('no2')\n",
    "df.reset_index(inplace=True)\n",
    "ax = df.plot.bar(x='City', y='max')"
   ]
  },
  {
   "cell_type": "code",
   "execution_count": 18,
   "metadata": {},
   "outputs": [
    {
     "data": {
      "image/png": "[encoded data removed]",
      "text/plain": [
       "<Figure size 432x288 with 1 Axes>"
      ]
     },
     "metadata": {
      "needs_background": "light"
     },
     "output_type": "display_data"
    }
   ],
   "source": [
    "#import matplotlib.pyplot as plt\n",
    "df = dataframe_top_ten_cities_by_specie('co')\n",
    "df.reset_index(inplace=True)\n",
    "ax = df.plot.bar(x='City', y='max')"
   ]
  },
  {
   "cell_type": "code",
   "execution_count": 19,
   "metadata": {},
   "outputs": [
    {
     "data": {
      "image/png": "[encoded data removed]",
      "text/plain": [
       "<Figure size 432x288 with 1 Axes>"
      ]
     },
     "metadata": {
      "needs_background": "light"
     },
     "output_type": "display_data"
    }
   ],
   "source": [
    "#import matplotlib.pyplot as plt\n",
    "df = dataframe_top_ten_countries_by_specie('no2')\n",
    "df.reset_index(inplace=True)\n",
    "ax = df.plot.bar(x='Country', y='max')"
   ]
  },
  {
   "cell_type": "code",
   "execution_count": null,
   "metadata": {},
   "outputs": [],
   "source": [
    "#import matplotlib.pyplot as plt\n",
    "df = dataframe_top_ten_countries_by_specie('co')\n",
    "df.reset_index(inplace=True)\n",
    "ax = df.plot.bar(x='Country', y='max')"
   ]
  },
  {
   "cell_type": "code",
   "execution_count": null,
   "metadata": {},
   "outputs": [],
   "source": []
  }
 ],
 "metadata": {
  "kernelspec": {
   "display_name": "Python 3",
   "language": "python",
   "name": "python3"
  },
  "language_info": {
   "codemirror_mode": {
    "name": "ipython",
    "version": 3
   },
   "file_extension": ".py",
   "mimetype": "text/x-python",
   "name": "python",
   "nbconvert_exporter": "python",
   "pygments_lexer": "ipython3",
   "version": "3.8.5"
  }
 },
 "nbformat": 4,
 "nbformat_minor": 4
}
