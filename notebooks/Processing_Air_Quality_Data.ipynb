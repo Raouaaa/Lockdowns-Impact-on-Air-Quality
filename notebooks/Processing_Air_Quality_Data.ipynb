{
 "cells": [
  {
   "cell_type": "markdown",
   "metadata": {
    "id": "kTHZt5wzd9k3"
   },
   "source": [
    "# DSAA-Kulimi Rwanda Data Camp Capstone Project <br> Lockdowns Impact on Air Quality 🌍\n",
    "\n",
    "GitHub repo: https://github.com/stoufa/Lockdowns-Impact-on-Air-Quality"
   ]
  },
  {
   "cell_type": "code",
   "execution_count": 1,
   "metadata": {
    "id": "oMVrtxddk_n5"
   },
   "outputs": [],
   "source": [
    "# Enabling Line Wrapping\n",
    "from IPython.display import HTML, display\n",
    "def set_css():\n",
    "  display(HTML('''\n",
    "  <style>\n",
    "    pre {\n",
    "        white-space: pre-wrap;\n",
    "    }\n",
    "  </style>\n",
    "  '''))\n",
    "get_ipython().events.register('pre_run_cell', set_css)"
   ]
  },
  {
   "cell_type": "markdown",
   "metadata": {
    "id": "DK0lC27fNUc8"
   },
   "source": [
    "# Getting Data"
   ]
  },
  {
   "cell_type": "markdown",
   "metadata": {
    "id": "z5DngmyzNY8t"
   },
   "source": [
    "## Air Quality Data\n",
    "\n",
    "We'll be getting this data from the [Worldwide COVID-19 dataset](https://aqicn.org/data-platform/covid19/verify/44b4316d-6a53-46ee-8238-4e23f8cce63a) provided by the *Air Quality Open Data Platform* and since the COVID19 pandemic started from 31st of December 2019 (according to [the WHO website](https://www.who.int/emergencies/diseases/novel-coronavirus-2019/interactive-timeline?gclid=CjwKCAiAp8iMBhAqEiwAJb94z_u3Y189qK5wdEkJ7dxauGgErxchzHCOD4Ul4xme5SwCLbFT5KQPFxoCAG4QAvD_BwE#event-0)), We'll be focussing on the following periods:\n",
    "\n",
    "<pre align=center>\n",
    "2019Q4, 2020Q1, 2020Q2, 2020Q3, 2020Q4\n",
    "</pre>"
   ]
  },
  {
   "cell_type": "code",
   "execution_count": 2,
   "metadata": {
    "colab": {
     "base_uri": "https://localhost:8080/",
     "height": 17
    },
    "id": "HIKgyzFUQcv-",
    "outputId": "0171c303-c69b-4e37-d28b-d745746417de"
   },
   "outputs": [
    {
     "data": {
      "text/html": [
       "\n",
       "  <style>\n",
       "    pre {\n",
       "        white-space: pre-wrap;\n",
       "    }\n",
       "  </style>\n",
       "  "
      ],
      "text/plain": [
       "<IPython.core.display.HTML object>"
      ]
     },
     "metadata": {},
     "output_type": "display_data"
    }
   ],
   "source": [
    "# creates the project's folder structure if it doesn't already exist\n",
    "!mkdir -p data/{air_quality,lockdowns}\n",
    "!mkdir -p data/air_quality/{raw,clean}\n",
    "!mkdir -p data/lockdowns/{raw,clean}"
   ]
  },
  {
   "cell_type": "code",
   "execution_count": 3,
   "metadata": {
    "colab": {
     "base_uri": "https://localhost:8080/",
     "height": 17
    },
    "id": "Z_PxkXz2PYTH",
    "outputId": "3c47db97-e625-4663-d6c8-275f884736fe"
   },
   "outputs": [
    {
     "data": {
      "text/html": [
       "\n",
       "  <style>\n",
       "    pre {\n",
       "        white-space: pre-wrap;\n",
       "    }\n",
       "  </style>\n",
       "  "
      ],
      "text/plain": [
       "<IPython.core.display.HTML object>"
      ]
     },
     "metadata": {},
     "output_type": "display_data"
    }
   ],
   "source": [
    "from pathlib import Path\n",
    "import pandas as pd\n",
    "from pprint import pprint as pp"
   ]
  },
  {
   "cell_type": "code",
   "execution_count": null,
   "metadata": {
    "colab": {
     "base_uri": "https://localhost:8080/",
     "height": 17
    },
    "id": "WUw9NrbK3Dib",
    "outputId": "5ca50288-d474-4834-f7f9-f58eb11828be"
   },
   "outputs": [],
   "source": [
    "# better way to display pandas dataframes\n",
    "%load_ext google.colab.data_table"
   ]
  },
  {
   "cell_type": "code",
   "execution_count": 5,
   "metadata": {
    "colab": {
     "base_uri": "https://localhost:8080/",
     "height": 17
    },
    "id": "ZW77Bt6JQwTf",
    "outputId": "9d7a63cb-baed-4e4c-d2e2-fa7cda0c1c97"
   },
   "outputs": [
    {
     "data": {
      "text/html": [
       "\n",
       "  <style>\n",
       "    pre {\n",
       "        white-space: pre-wrap;\n",
       "    }\n",
       "  </style>\n",
       "  "
      ],
      "text/plain": [
       "<IPython.core.display.HTML object>"
      ]
     },
     "metadata": {},
     "output_type": "display_data"
    }
   ],
   "source": [
    "DATA_FOLDER = Path('data')\n",
    "\n",
    "AIR_QUALITY_DATA_FOLDER = DATA_FOLDER / 'air_quality'\n",
    "AIR_QUALITY_RAW_DATA_FOLDER = AIR_QUALITY_DATA_FOLDER / 'raw'\n",
    "AIR_QUALITY_CLEAN_DATA_FOLDER = AIR_QUALITY_DATA_FOLDER / 'clean'\n",
    "\n",
    "LOCKDOWNS_DATA_FOLDER = DATA_FOLDER / 'lockdowns'\n",
    "LOCKDOWNS_RAW_DATA_FOLDER = LOCKDOWNS_DATA_FOLDER / 'raw'\n",
    "LOCKDOWNS_CLEAN_DATA_FOLDER = LOCKDOWNS_DATA_FOLDER / 'clean'"
   ]
  },
  {
   "cell_type": "code",
   "execution_count": 6,
   "metadata": {
    "colab": {
     "base_uri": "https://localhost:8080/",
     "height": 34
    },
    "id": "csI3ZmMhsGXw",
    "outputId": "667dca99-1836-4286-f019-e02bd04942fe"
   },
   "outputs": [
    {
     "data": {
      "text/html": [
       "\n",
       "  <style>\n",
       "    pre {\n",
       "        white-space: pre-wrap;\n",
       "    }\n",
       "  </style>\n",
       "  "
      ],
      "text/plain": [
       "<IPython.core.display.HTML object>"
      ]
     },
     "metadata": {},
     "output_type": "display_data"
    },
    {
     "data": {
      "text/plain": [
       "['2019Q4', '2020Q1', '2020Q2', '2020Q3', '2020Q4']"
      ]
     },
     "execution_count": 6,
     "metadata": {},
     "output_type": "execute_result"
    }
   ],
   "source": [
    "periods = '2019Q4, 2020Q1, 2020Q2, 2020Q3, 2020Q4'.split(', ')\n",
    "periods"
   ]
  },
  {
   "cell_type": "code",
   "execution_count": null,
   "metadata": {
    "colab": {
     "base_uri": "https://localhost:8080/",
     "height": 17
    },
    "id": "sJZNwKoU1VFL",
    "outputId": "bc6504e0-fbb0-449e-e34f-94e7e3413edd"
   },
   "outputs": [
    {
     "data": {
      "text/html": [
       "\n",
       "  <style>\n",
       "    pre {\n",
       "        white-space: pre-wrap;\n",
       "    }\n",
       "  </style>\n",
       "  "
      ],
      "text/plain": [
       "<IPython.core.display.HTML object>"
      ]
     },
     "metadata": {},
     "output_type": "display_data"
    }
   ],
   "source": [
    "# move the data to its appropriate location\n",
    "# !mv data/air_quality/*.csv data/air_quality/raw/"
   ]
  },
  {
   "cell_type": "code",
   "execution_count": null,
   "metadata": {
    "colab": {
     "base_uri": "https://localhost:8080/",
     "height": 17
    },
    "id": "MylVGHBxSeka",
    "outputId": "41b73aaf-755f-4643-a387-c0dc80bd4aad"
   },
   "outputs": [
    {
     "data": {
      "text/html": [
       "\n",
       "  <style>\n",
       "    pre {\n",
       "        white-space: pre-wrap;\n",
       "    }\n",
       "  </style>\n",
       "  "
      ],
      "text/plain": [
       "<IPython.core.display.HTML object>"
      ]
     },
     "metadata": {},
     "output_type": "display_data"
    }
   ],
   "source": [
    "# remove all CSV files in data/\n",
    "# !rm data/*.csv"
   ]
  },
  {
   "cell_type": "code",
   "execution_count": 7,
   "metadata": {
    "colab": {
     "base_uri": "https://localhost:8080/",
     "height": 102
    },
    "id": "e1O0aqGqPau1",
    "outputId": "666e835c-979f-442d-89d4-0c88ea411b45"
   },
   "outputs": [
    {
     "data": {
      "text/html": [
       "\n",
       "  <style>\n",
       "    pre {\n",
       "        white-space: pre-wrap;\n",
       "    }\n",
       "  </style>\n",
       "  "
      ],
      "text/plain": [
       "<IPython.core.display.HTML object>"
      ]
     },
     "metadata": {},
     "output_type": "display_data"
    },
    {
     "name": "stdout",
     "output_type": "stream",
     "text": [
      "downloading 2019Q4.csv ...\n",
      "downloading 2020Q1.csv ...\n",
      "downloading 2020Q2.csv ...\n",
      "downloading 2020Q3.csv ...\n",
      "downloading 2020Q4.csv ...\n"
     ]
    }
   ],
   "source": [
    "for period in periods:\n",
    "  # !echo {period}\n",
    "  CSV_FILE_URL = f'https://aqicn.org/data-platform/covid19/report/13220-61539cf0/{period}'\n",
    "  FILE_PATH = AIR_QUALITY_RAW_DATA_FOLDER / f'{period}.csv'\n",
    "  if not FILE_PATH.exists():\n",
    "    # if the file doesn't exist, download it\n",
    "    print(f'downloading {period}.csv ...')\n",
    "    !curl --compressed -o {FILE_PATH} {CSV_FILE_URL} &>/dev/null\n",
    "  else:\n",
    "    print(f'{period}.csv already downloaded!')"
   ]
  },
  {
   "cell_type": "markdown",
   "metadata": {
    "id": "A7OB2UxMTx7z"
   },
   "source": [
    "let's now take a look at the data"
   ]
  },
  {
   "cell_type": "code",
   "execution_count": 8,
   "metadata": {
    "colab": {
     "base_uri": "https://localhost:8080/",
     "height": 17
    },
    "id": "3AVqfp7rVNx8",
    "outputId": "b9d053f1-af3f-4d6f-de0f-af7e51618e03"
   },
   "outputs": [
    {
     "data": {
      "text/html": [
       "\n",
       "  <style>\n",
       "    pre {\n",
       "        white-space: pre-wrap;\n",
       "    }\n",
       "  </style>\n",
       "  "
      ],
      "text/plain": [
       "<IPython.core.display.HTML object>"
      ]
     },
     "metadata": {},
     "output_type": "display_data"
    }
   ],
   "source": [
    "TEST_AQ_DATA_FILE = AIR_QUALITY_RAW_DATA_FOLDER / '2019Q4.csv'"
   ]
  },
  {
   "cell_type": "code",
   "execution_count": 9,
   "metadata": {
    "colab": {
     "base_uri": "https://localhost:8080/",
     "height": 204
    },
    "id": "n_fkyWqBVSc9",
    "outputId": "096aff6a-db8b-4bf5-a844-c468ad6b7b29"
   },
   "outputs": [
    {
     "data": {
      "text/html": [
       "\n",
       "  <style>\n",
       "    pre {\n",
       "        white-space: pre-wrap;\n",
       "    }\n",
       "  </style>\n",
       "  "
      ],
      "text/plain": [
       "<IPython.core.display.HTML object>"
      ]
     },
     "metadata": {},
     "output_type": "display_data"
    },
    {
     "name": "stdout",
     "output_type": "stream",
     "text": [
      "     1\t# Daily air quality and meteorological measurementa for majors world-wide cities in 2020\n",
      "     2\t# By using this data you agree with the terms of service: https://aqicn.org/data-platform/tos/\n",
      "     3\t# For more information check: https://aqicn.org/data-platform/covid19/\n",
      "     4\t# Data-Set Generated on 2020-04-13T01:05:30+01:00\n",
      "     5\tDate,Country,City,Specie,count,min,max,median,variance\n",
      "     6\t2019-11-02,HU,Debrecen,o3,72,1.9,12.2,7.0,59.60\n",
      "     7\t2019-11-11,HU,Debrecen,o3,66,0.6,15.2,7.1,151.12\n",
      "     8\t2019-11-12,HU,Debrecen,o3,65,2.3,18.9,12.0,193.29\n",
      "     9\t2019-12-22,HU,Debrecen,o3,45,11.3,24.1,18.6,110.54\n",
      "    10\t2020-01-05,HU,Debrecen,o3,34,1.6,26.4,16.7,586.81\n"
     ]
    }
   ],
   "source": [
    "# display the first 10 lines of the data file (with line numbers)\n",
    "!head {TEST_AQ_DATA_FILE} | cat -n"
   ]
  },
  {
   "cell_type": "markdown",
   "metadata": {
    "id": "HXv68koYVjMY"
   },
   "source": [
    "We can see that we have a comma-separated dataset with a few comments on top starting with `#`\n"
   ]
  },
  {
   "cell_type": "code",
   "execution_count": 10,
   "metadata": {
    "colab": {
     "base_uri": "https://localhost:8080/",
     "height": 17
    },
    "id": "WfFcSRKwT1_g",
    "outputId": "92e1d1dd-486f-48e7-da40-e3cde674df76"
   },
   "outputs": [
    {
     "data": {
      "text/html": [
       "\n",
       "  <style>\n",
       "    pre {\n",
       "        white-space: pre-wrap;\n",
       "    }\n",
       "  </style>\n",
       "  "
      ],
      "text/plain": [
       "<IPython.core.display.HTML object>"
      ]
     },
     "metadata": {},
     "output_type": "display_data"
    }
   ],
   "source": [
    "df = pd.read_csv(AIR_QUALITY_RAW_DATA_FOLDER / '2019Q4.csv', comment='#')"
   ]
  },
  {
   "cell_type": "code",
   "execution_count": 11,
   "metadata": {
    "colab": {
     "base_uri": "https://localhost:8080/",
     "height": 68
    },
    "id": "C8PuFFjYjTS1",
    "outputId": "b5701962-8a64-4844-96fb-97a8ca70a20b"
   },
   "outputs": [
    {
     "data": {
      "text/html": [
       "\n",
       "  <style>\n",
       "    pre {\n",
       "        white-space: pre-wrap;\n",
       "    }\n",
       "  </style>\n",
       "  "
      ],
      "text/plain": [
       "<IPython.core.display.HTML object>"
      ]
     },
     "metadata": {},
     "output_type": "display_data"
    },
    {
     "data": {
      "text/plain": [
       "Index(['date', 'country', 'city', 'specie', 'count', 'min', 'max', 'median',\n",
       "       'variance'],\n",
       "      dtype='object')"
      ]
     },
     "execution_count": 11,
     "metadata": {},
     "output_type": "execute_result"
    }
   ],
   "source": [
    "# let's lowercase colum names to make using them easier later\n",
    "df.columns = map(lambda x : x.lower(), df.columns)\n",
    "df.columns"
   ]
  },
  {
   "cell_type": "code",
   "execution_count": 12,
   "metadata": {
    "colab": {
     "base_uri": "https://localhost:8080/",
     "height": 194
    },
    "id": "OXLm3vaXVJmV",
    "outputId": "eb958ccc-5758-4957-b82a-dd4eb8da3398"
   },
   "outputs": [
    {
     "data": {
      "text/html": [
       "\n",
       "  <style>\n",
       "    pre {\n",
       "        white-space: pre-wrap;\n",
       "    }\n",
       "  </style>\n",
       "  "
      ],
      "text/plain": [
       "<IPython.core.display.HTML object>"
      ]
     },
     "metadata": {},
     "output_type": "display_data"
    },
    {
     "data": {
      "text/html": [
       "<div>\n",
       "<style scoped>\n",
       "    .dataframe tbody tr th:only-of-type {\n",
       "        vertical-align: middle;\n",
       "    }\n",
       "\n",
       "    .dataframe tbody tr th {\n",
       "        vertical-align: top;\n",
       "    }\n",
       "\n",
       "    .dataframe thead th {\n",
       "        text-align: right;\n",
       "    }\n",
       "</style>\n",
       "<table border=\"1\" class=\"dataframe\">\n",
       "  <thead>\n",
       "    <tr style=\"text-align: right;\">\n",
       "      <th></th>\n",
       "      <th>date</th>\n",
       "      <th>country</th>\n",
       "      <th>city</th>\n",
       "      <th>specie</th>\n",
       "      <th>count</th>\n",
       "      <th>min</th>\n",
       "      <th>max</th>\n",
       "      <th>median</th>\n",
       "      <th>variance</th>\n",
       "    </tr>\n",
       "  </thead>\n",
       "  <tbody>\n",
       "    <tr>\n",
       "      <th>0</th>\n",
       "      <td>2019-11-02</td>\n",
       "      <td>HU</td>\n",
       "      <td>Debrecen</td>\n",
       "      <td>o3</td>\n",
       "      <td>72</td>\n",
       "      <td>1.9</td>\n",
       "      <td>12.2</td>\n",
       "      <td>7.0</td>\n",
       "      <td>59.60</td>\n",
       "    </tr>\n",
       "    <tr>\n",
       "      <th>1</th>\n",
       "      <td>2019-11-11</td>\n",
       "      <td>HU</td>\n",
       "      <td>Debrecen</td>\n",
       "      <td>o3</td>\n",
       "      <td>66</td>\n",
       "      <td>0.6</td>\n",
       "      <td>15.2</td>\n",
       "      <td>7.1</td>\n",
       "      <td>151.12</td>\n",
       "    </tr>\n",
       "    <tr>\n",
       "      <th>2</th>\n",
       "      <td>2019-11-12</td>\n",
       "      <td>HU</td>\n",
       "      <td>Debrecen</td>\n",
       "      <td>o3</td>\n",
       "      <td>65</td>\n",
       "      <td>2.3</td>\n",
       "      <td>18.9</td>\n",
       "      <td>12.0</td>\n",
       "      <td>193.29</td>\n",
       "    </tr>\n",
       "    <tr>\n",
       "      <th>3</th>\n",
       "      <td>2019-12-22</td>\n",
       "      <td>HU</td>\n",
       "      <td>Debrecen</td>\n",
       "      <td>o3</td>\n",
       "      <td>45</td>\n",
       "      <td>11.3</td>\n",
       "      <td>24.1</td>\n",
       "      <td>18.6</td>\n",
       "      <td>110.54</td>\n",
       "    </tr>\n",
       "    <tr>\n",
       "      <th>4</th>\n",
       "      <td>2020-01-05</td>\n",
       "      <td>HU</td>\n",
       "      <td>Debrecen</td>\n",
       "      <td>o3</td>\n",
       "      <td>34</td>\n",
       "      <td>1.6</td>\n",
       "      <td>26.4</td>\n",
       "      <td>16.7</td>\n",
       "      <td>586.81</td>\n",
       "    </tr>\n",
       "  </tbody>\n",
       "</table>\n",
       "</div>"
      ],
      "text/plain": [
       "         date country      city specie  count   min   max  median  variance\n",
       "0  2019-11-02      HU  Debrecen     o3     72   1.9  12.2     7.0     59.60\n",
       "1  2019-11-11      HU  Debrecen     o3     66   0.6  15.2     7.1    151.12\n",
       "2  2019-11-12      HU  Debrecen     o3     65   2.3  18.9    12.0    193.29\n",
       "3  2019-12-22      HU  Debrecen     o3     45  11.3  24.1    18.6    110.54\n",
       "4  2020-01-05      HU  Debrecen     o3     34   1.6  26.4    16.7    586.81"
      ]
     },
     "execution_count": 12,
     "metadata": {},
     "output_type": "execute_result"
    }
   ],
   "source": [
    "# displays the first 5 rows of the data\n",
    "df.head()"
   ]
  },
  {
   "cell_type": "code",
   "execution_count": 13,
   "metadata": {
    "colab": {
     "base_uri": "https://localhost:8080/",
     "height": 289
    },
    "id": "RWA0Zf8fWDp4",
    "outputId": "b9225837-50dd-4f2f-ed37-7b84e9f08b31"
   },
   "outputs": [
    {
     "data": {
      "text/html": [
       "\n",
       "  <style>\n",
       "    pre {\n",
       "        white-space: pre-wrap;\n",
       "    }\n",
       "  </style>\n",
       "  "
      ],
      "text/plain": [
       "<IPython.core.display.HTML object>"
      ]
     },
     "metadata": {},
     "output_type": "display_data"
    },
    {
     "name": "stdout",
     "output_type": "stream",
     "text": [
      "<class 'pandas.core.frame.DataFrame'>\n",
      "RangeIndex: 578226 entries, 0 to 578225\n",
      "Data columns (total 9 columns):\n",
      " #   Column    Non-Null Count   Dtype  \n",
      "---  ------    --------------   -----  \n",
      " 0   date      578226 non-null  object \n",
      " 1   country   578226 non-null  object \n",
      " 2   city      578226 non-null  object \n",
      " 3   specie    578226 non-null  object \n",
      " 4   count     578226 non-null  int64  \n",
      " 5   min       578226 non-null  float64\n",
      " 6   max       578226 non-null  float64\n",
      " 7   median    578226 non-null  float64\n",
      " 8   variance  578226 non-null  float64\n",
      "dtypes: float64(4), int64(1), object(4)\n",
      "memory usage: 39.7+ MB\n"
     ]
    }
   ],
   "source": [
    "# getting more details about the column names and data types\n",
    "df.info()"
   ]
  },
  {
   "cell_type": "code",
   "execution_count": 14,
   "metadata": {
    "colab": {
     "base_uri": "https://localhost:8080/",
     "height": 257
    },
    "id": "2-b-yGOLW7jI",
    "outputId": "4541a052-c6ce-43f8-c3af-e849f7759595"
   },
   "outputs": [
    {
     "data": {
      "text/html": [
       "\n",
       "  <style>\n",
       "    pre {\n",
       "        white-space: pre-wrap;\n",
       "    }\n",
       "  </style>\n",
       "  "
      ],
      "text/plain": [
       "<IPython.core.display.HTML object>"
      ]
     },
     "metadata": {},
     "output_type": "display_data"
    },
    {
     "data": {
      "text/html": [
       "<div>\n",
       "<style scoped>\n",
       "    .dataframe tbody tr th:only-of-type {\n",
       "        vertical-align: middle;\n",
       "    }\n",
       "\n",
       "    .dataframe tbody tr th {\n",
       "        vertical-align: top;\n",
       "    }\n",
       "\n",
       "    .dataframe thead th {\n",
       "        text-align: right;\n",
       "    }\n",
       "</style>\n",
       "<table border=\"1\" class=\"dataframe\">\n",
       "  <thead>\n",
       "    <tr style=\"text-align: right;\">\n",
       "      <th></th>\n",
       "      <th>count</th>\n",
       "      <th>min</th>\n",
       "      <th>max</th>\n",
       "      <th>median</th>\n",
       "      <th>variance</th>\n",
       "    </tr>\n",
       "  </thead>\n",
       "  <tbody>\n",
       "    <tr>\n",
       "      <th>count</th>\n",
       "      <td>578226.000000</td>\n",
       "      <td>578226.000000</td>\n",
       "      <td>578226.000000</td>\n",
       "      <td>578226.000000</td>\n",
       "      <td>5.782260e+05</td>\n",
       "    </tr>\n",
       "    <tr>\n",
       "      <th>mean</th>\n",
       "      <td>130.891657</td>\n",
       "      <td>101.549097</td>\n",
       "      <td>134.929109</td>\n",
       "      <td>115.861437</td>\n",
       "      <td>1.012853e+04</td>\n",
       "    </tr>\n",
       "    <tr>\n",
       "      <th>std</th>\n",
       "      <td>185.690897</td>\n",
       "      <td>295.104250</td>\n",
       "      <td>296.394926</td>\n",
       "      <td>291.429274</td>\n",
       "      <td>2.922576e+05</td>\n",
       "    </tr>\n",
       "    <tr>\n",
       "      <th>min</th>\n",
       "      <td>2.000000</td>\n",
       "      <td>-3276.600000</td>\n",
       "      <td>-3065.600000</td>\n",
       "      <td>-3065.600000</td>\n",
       "      <td>0.000000e+00</td>\n",
       "    </tr>\n",
       "    <tr>\n",
       "      <th>25%</th>\n",
       "      <td>45.000000</td>\n",
       "      <td>0.900000</td>\n",
       "      <td>9.700000</td>\n",
       "      <td>4.000000</td>\n",
       "      <td>2.161000e+01</td>\n",
       "    </tr>\n",
       "    <tr>\n",
       "      <th>50%</th>\n",
       "      <td>72.000000</td>\n",
       "      <td>4.200000</td>\n",
       "      <td>25.200000</td>\n",
       "      <td>12.500000</td>\n",
       "      <td>1.168800e+02</td>\n",
       "    </tr>\n",
       "    <tr>\n",
       "      <th>75%</th>\n",
       "      <td>154.000000</td>\n",
       "      <td>22.500000</td>\n",
       "      <td>85.000000</td>\n",
       "      <td>50.000000</td>\n",
       "      <td>7.219325e+02</td>\n",
       "    </tr>\n",
       "    <tr>\n",
       "      <th>max</th>\n",
       "      <td>2736.000000</td>\n",
       "      <td>1170.600000</td>\n",
       "      <td>3272.600000</td>\n",
       "      <td>1330.800000</td>\n",
       "      <td>4.127730e+07</td>\n",
       "    </tr>\n",
       "  </tbody>\n",
       "</table>\n",
       "</div>"
      ],
      "text/plain": [
       "               count            min            max         median  \\\n",
       "count  578226.000000  578226.000000  578226.000000  578226.000000   \n",
       "mean      130.891657     101.549097     134.929109     115.861437   \n",
       "std       185.690897     295.104250     296.394926     291.429274   \n",
       "min         2.000000   -3276.600000   -3065.600000   -3065.600000   \n",
       "25%        45.000000       0.900000       9.700000       4.000000   \n",
       "50%        72.000000       4.200000      25.200000      12.500000   \n",
       "75%       154.000000      22.500000      85.000000      50.000000   \n",
       "max      2736.000000    1170.600000    3272.600000    1330.800000   \n",
       "\n",
       "           variance  \n",
       "count  5.782260e+05  \n",
       "mean   1.012853e+04  \n",
       "std    2.922576e+05  \n",
       "min    0.000000e+00  \n",
       "25%    2.161000e+01  \n",
       "50%    1.168800e+02  \n",
       "75%    7.219325e+02  \n",
       "max    4.127730e+07  "
      ]
     },
     "execution_count": 14,
     "metadata": {},
     "output_type": "execute_result"
    }
   ],
   "source": [
    "# getting a summary of the main descriptive statistics of this data file\n",
    "df.describe()"
   ]
  },
  {
   "cell_type": "code",
   "execution_count": 15,
   "metadata": {
    "colab": {
     "base_uri": "https://localhost:8080/",
     "height": 255
    },
    "id": "48JH_Vstj2-e",
    "outputId": "7377c627-323d-4eda-f6d4-8d688a5deac4"
   },
   "outputs": [
    {
     "data": {
      "text/html": [
       "\n",
       "  <style>\n",
       "    pre {\n",
       "        white-space: pre-wrap;\n",
       "    }\n",
       "  </style>\n",
       "  "
      ],
      "text/plain": [
       "<IPython.core.display.HTML object>"
      ]
     },
     "metadata": {},
     "output_type": "display_data"
    },
    {
     "name": "stdout",
     "output_type": "stream",
     "text": [
      "['2019-09-30', '2019-10-01', '2019-10-02', '2019-10-03', '2019-10-04', '2019-10-05', '2019-10-06', '2019-10-07', '2019-10-08', '2019-10-09', '2019-10-10', '2019-10-11', '2019-10-12', '2019-10-13', '2019-10-14', '2019-10-15', '2019-10-16', '2019-10-17', '2019-10-18', '2019-10-19', '2019-10-20', '2019-10-21', '2019-10-22', '2019-10-23', '2019-10-24', '2019-10-25', '2019-10-26', '2019-10-27', '2019-10-28', '2019-10-29', '2019-10-30', '2019-10-31', '2019-11-01', '2019-11-02', '2019-11-03', '2019-11-04', '2019-11-05', '2019-11-06', '2019-11-07', '2019-11-08', '2019-11-09', '2019-11-10', '2019-11-11', '2019-11-12', '2019-11-13', '2019-11-14', '2019-11-15', '2019-11-16', '2019-11-17', '2019-11-18', '2019-11-19', '2019-11-20', '2019-11-21', '2019-11-22', '2019-11-23', '2019-11-24', '2019-11-25', '2019-11-26', '2019-11-27', '2019-11-28', '2019-11-29', '2019-11-30', '2019-12-01', '2019-12-02', '2019-12-03', '2019-12-04', '2019-12-05', '2019-12-06', '2019-12-07', '2019-12-08', '2019-12-09', '2019-12-10', '2019-12-11', '2019-12-12', '2019-12-13', '2019-12-14', '2019-12-15', '2019-12-16', '2019-12-17', '2019-12-18', '2019-12-19', '2019-12-20', '2019-12-21', '2019-12-22', '2019-12-23', '2019-12-24', '2019-12-25', '2019-12-26', '2019-12-27', '2019-12-28', '2019-12-29', '2019-12-30', '2019-12-31', '2020-01-01', '2020-01-02', '2020-01-03', '2020-01-04', '2020-01-05']\n"
     ]
    }
   ],
   "source": [
    "print(sorted(df.date.unique()))"
   ]
  },
  {
   "cell_type": "code",
   "execution_count": 16,
   "metadata": {
    "colab": {
     "base_uri": "https://localhost:8080/",
     "height": 34
    },
    "id": "b-CYuQWJjtTt",
    "outputId": "50c584f4-9093-4a34-867f-c8ad07e8e20e"
   },
   "outputs": [
    {
     "data": {
      "text/html": [
       "\n",
       "  <style>\n",
       "    pre {\n",
       "        white-space: pre-wrap;\n",
       "    }\n",
       "  </style>\n",
       "  "
      ],
      "text/plain": [
       "<IPython.core.display.HTML object>"
      ]
     },
     "metadata": {},
     "output_type": "display_data"
    },
    {
     "data": {
      "text/plain": [
       "('2019-09-30', '2020-01-05')"
      ]
     },
     "execution_count": 16,
     "metadata": {},
     "output_type": "execute_result"
    }
   ],
   "source": [
    "# date range\n",
    "df.date.min(), df.date.max()"
   ]
  },
  {
   "cell_type": "code",
   "execution_count": 17,
   "metadata": {
    "colab": {
     "base_uri": "https://localhost:8080/",
     "height": 119
    },
    "id": "D9XdjdeSmsQ0",
    "outputId": "f9936c05-faf5-4172-a860-c7b0c26255ca"
   },
   "outputs": [
    {
     "data": {
      "text/html": [
       "\n",
       "  <style>\n",
       "    pre {\n",
       "        white-space: pre-wrap;\n",
       "    }\n",
       "  </style>\n",
       "  "
      ],
      "text/plain": [
       "<IPython.core.display.HTML object>"
      ]
     },
     "metadata": {},
     "output_type": "display_data"
    },
    {
     "name": "stdout",
     "output_type": "stream",
     "text": [
      "['AE', 'AF', 'AR', 'AT', 'AU', 'BA', 'BD', 'BE', 'BG', 'BH', 'BO', 'BR', 'CA', 'CH', 'CL', 'CN', 'CO', 'CR', 'CY', 'CZ', 'DE', 'DK', 'DZ', 'EC', 'EE', 'ES', 'ET', 'FI', 'FR', 'GB', 'GE', 'GR', 'GT', 'HK', 'HR', 'HU', 'ID', 'IE', 'IL', 'IN', 'IQ', 'IR', 'IS', 'IT', 'JO', 'JP', 'KG', 'KR', 'KW', 'KZ', 'LA', 'LK', 'LT', 'MK', 'ML', 'MM', 'MN', 'MO', 'MX', 'MY', 'NL', 'NO', 'NP', 'NZ', 'PE', 'PH', 'PK', 'PL', 'PR', 'PT', 'RE', 'RO', 'RS', 'RU', 'SA', 'SE', 'SG', 'SK', 'SV', 'TH', 'TJ', 'TM', 'TR', 'TW', 'UA', 'UG', 'US', 'UZ', 'VN', 'XK', 'ZA']\n"
     ]
    }
   ],
   "source": [
    "# countries found in the dataset\n",
    "print(sorted(df.country.unique()))"
   ]
  },
  {
   "cell_type": "code",
   "execution_count": 18,
   "metadata": {
    "colab": {
     "base_uri": "https://localhost:8080/",
     "height": 1000
    },
    "id": "cjuShI2EnkWP",
    "outputId": "e4736149-93b4-484a-bf46-22aaccc2e88f"
   },
   "outputs": [
    {
     "data": {
      "text/html": [
       "\n",
       "  <style>\n",
       "    pre {\n",
       "        white-space: pre-wrap;\n",
       "    }\n",
       "  </style>\n",
       "  "
      ],
      "text/plain": [
       "<IPython.core.display.HTML object>"
      ]
     },
     "metadata": {},
     "output_type": "display_data"
    },
    {
     "name": "stdout",
     "output_type": "stream",
     "text": [
      "['Abha', 'Abu Dhabi', 'Adana', 'Adapazarı', 'Addis Ababa', 'Adelaide', 'Aguascalientes', 'Akita', 'Albuquerque', 'Algiers', 'Alor Setar', 'Amiens', 'Amman', 'Amsterdam', 'Andong', 'Ankara', 'Antakya', 'Antwerpen', 'Anyang', 'Arad', 'Arāk', 'Ashdod', 'Ashgabat', 'Ashkelon', 'Athens', 'Atlanta', 'Auckland', 'Augsburg', 'Austin', 'Bacău', 'Baghdad', 'Baguio', 'Baia Mare', 'Baltimore', 'Balıkesir', 'Bamako', 'Bandar Abbas', 'Bangkok', 'Barcelona', 'Beijing', 'Belfast', 'Belgrade', 'Bengaluru', 'Bergen', 'Berlin', 'Besançon', 'Bhopal', 'Bilbao', 'Biratnagar', 'Birmingham', 'Bishkek', 'Bloemfontein', 'Bogotá', 'Boise', 'Bologna', 'Bordeaux', 'Boston', 'Bratislava', 'Braşov', 'Breda', 'Brescia', 'Brisbane', 'Bristol', 'Brno', 'Brooklyn', 'Brussels', 'Brăila', 'Bucharest', 'Budapest', 'Buenos Aires', 'Buraydah', 'Burgas', 'Burgos', 'Bursa', 'Busan', 'Butuan', 'Bydgoszcz', 'Caen', 'Calama', 'Calgary', 'Canberra', 'Cape Town', 'Cardiff', 'Castelló de la Plana', 'Chandigarh', 'Changchun', 'Changsha', 'Changwon', 'Changzhou', 'Charleroi', 'Charlotte', 'Chelyabinsk', 'Chengdu', 'Chennai', 'Cheongju-si', 'Chiang Mai', 'Chiba', 'Chicago', 'Chillán', 'Chon Buri', 'Chongqing', 'Christchurch', 'Chuncheon', 'Clermont-Ferrand', 'Cluj-Napoca', 'Cochabamba', 'Colombo', 'Columbia', 'Columbus', 'Concepción', 'Constanţa', 'Copenhagen', 'Coventry', 'Craiova', 'Cuernavaca', 'Córdoba', 'Daegu', 'Daejeon', 'Dallas', 'Dammam', 'Darmstadt', 'Darwin', 'Debrecen', 'Delhi', 'Denizli', 'Denver', 'Detroit', 'Dhaka', 'Dijon', 'Dnipro', 'Dongguan', 'Donostia / San Sebastián', 'Dordrecht', 'Douliu', 'Dresden', 'Dubai', 'Dublin', 'Dunedin', 'Durban', 'Dushanbe', 'Düsseldorf', 'East London', 'Ecatepec de Morelos', 'Edinburgh', 'Edmonton', 'Eindhoven', 'El Paso', 'Erzurum', 'Eskişehir', 'Florence', 'Fort Worth', 'Foshan', 'Freiburg', 'Fresno', 'Fukuoka', 'Funchal', 'Fushun', 'Fuzhou', 'Galaţi', 'Gandhinagar', 'Gasteiz / Vitoria', 'Gdańsk', 'Gent', 'George Town', 'Ghāziābād', 'Gifu-shi', 'Glasgow', 'Granada', 'Graz', 'Grenoble', 'Groningen', 'Guadalajara', 'Guangzhou', 'Guatemala City', 'Guiyang', 'Gwangju', 'Győr', 'Göteborg', \"Ha'il\", 'Haarlem', 'Haifa', 'Haikou', 'Haiphong', 'Halifax', 'Hamburg', 'Hamilton', 'Hangzhou', 'Hannover', 'Hanoi', 'Harbin', 'Hartford', 'Hefei', 'Hegang', 'Helsinki', 'Hiroshima', 'Ho Chi Minh City', 'Hobart', 'Hohhot', 'Hong Kong', 'Honolulu', 'Houston', 'Hsinchu', 'Huelva', 'Huế', 'Hyderabad', 'Hāpur', 'Hạ Long', 'Iaşi', 'Incheon', 'Indianapolis', 'Innsbruck', 'Ipoh', 'Irbid', 'Isfahan', 'Islamabad', 'Istanbul', 'Ivano-Frankivsk', 'Jackson', 'Jacksonville', 'Jaipur', 'Jakarta', 'Jeddah', 'Jeju City', 'Jeonju', 'Jerusalem', 'Jieyang', 'Jinan', 'Johannesburg', 'Johor Bahru', 'Kabul', 'Kagoshima', 'Kamianske', 'Kampala', 'Kanazawa', 'Kaohsiung', 'Karachi', 'Karaj', 'Karlsruhe', 'Kassel', 'Kathmandu', 'Katowice', 'Kaunas', 'Kayseri', 'Kecskemét', 'Keelung', 'Kerman', 'Kermanshah', 'Khorramabad', 'Khorramshahr', 'Kielce', 'Kitchener', 'Klang', 'Klerksdorp', 'Kobe', 'Kochi', 'Kolkata', 'Konya', 'Kota Bharu', 'Košice', 'Kraków', 'Krasnoyarsk', 'Kryvyi Rih', 'Kuala Lumpur', 'Kuantan', 'Kuching', 'Kumamoto', 'Kunming', 'Kyiv', 'Kyoto', 'Köln', 'Kütahya', 'Lahore', 'Lampang', 'Lanzhou', 'Las Palmas de Gran Canaria', 'Las Vegas', 'Launceston', 'Leeds', 'Leicester', 'Lhasa', 'Lille', 'Lima', 'Limassol', 'Limoges', 'Linz', 'Lisbon', 'Little Rock', 'Liverpool', 'Livorno', 'Liège', 'London', 'Los Angeles', 'Los Ángeles', 'Lucknow', 'Lviv', 'Lyon', 'Maastricht', 'Macau', 'Madison', 'Madrid', 'Mainz', 'Malacca', 'Malmö', 'Manama', 'Manchester', 'Manhattan', 'Manila', 'Marseille', 'Mashhad', 'Matsuyama', 'Mecca', 'Medellín', 'Melbourne', 'Memphis', 'Metz', 'Mexico City', 'Miami', 'Middelburg', 'Milan', 'Milwaukee', 'Miri', 'Miskolc', 'Mississauga', 'Miyazaki', 'Modena', 'Mokpo', 'Monterrey', 'Montpellier', 'Montréal', 'Morelia', 'Moscow', 'Mumbai', 'Munich', 'Murcia', 'Muzaffarnagar', 'Mysore', 'Málaga', 'Mérida', 'Münster', 'Nagano', 'Nagasaki', 'Nagoya', 'Nagpur', 'Naha', 'Nakhon Pathom', 'Namur', 'Nanchang', 'Nancy', 'Nanjing', 'Nanning', 'Nantes', 'Naples', 'Nara-shi', 'Nashik', 'Nashville', 'Netanya', 'New Delhi', 'Newcastle', 'Newport', 'Nice', 'Nicosia', 'Niigata', 'Nijmegen', 'Ningbo', 'Nizhniy Novgorod', 'Niš', 'Norwich', 'Novi Sad', 'Novosibirsk', 'Nur-Sultan', 'Nîmes', 'Oakland', 'Oaxaca', 'Odessa', 'Okayama', 'Oklahoma City', 'Olomouc', 'Omaha', 'Oradea', 'Orléans', 'Orūmīyeh', 'Osaka', 'Oslo', 'Osorno', 'Ostrava', 'Ottawa', 'Oulu', 'Oviedo', 'Pachuca de Soto', 'Palma', 'Pamplona', 'Paris', 'Parma', 'Patna', 'Perpignan', 'Perth', 'Peshawar', 'Petaẖ Tiqwa', 'Philadelphia', 'Phoenix', 'Pilsen', 'Piteşti', 'Ploieşti', 'Plovdiv', 'Plymouth', 'Pohang', 'Pokhara', 'Port Elizabeth', 'Portland', 'Potsdam', 'Poznań', 'Prague', 'Prato', 'Preston', 'Pretoria', 'Pristina', 'Providence', 'Puebla', 'Puerto Montt', 'Pécs', 'Płock', 'Qingdao', 'Qinhuangdao', 'Qiqihar', 'Qom', 'Queens', 'Quilpué', 'Quito', 'Québec', 'Raleigh', 'Rancagua', 'Rayong', 'Reading', 'Rennes', 'Reykjavík', 'Richards Bay', 'Richmond', 'Rijeka', 'Riyadh', 'Rome', 'Rotterdam', 'Rouen', 'Rybnik', 'Râmnicu Vâlcea', 'Sacramento', 'Saint Paul', 'Saint-Denis', 'Saint-Étienne', 'Saitama', 'Salamanca', 'Salem', 'Salt Lake City', 'Salzburg', 'Samsun', 'Samut Prakan', 'San Antonio', 'San Diego', 'San Francisco', 'San Jose', 'San José', 'San Juan', 'San Luis Potosí', 'San Salvador', 'Sanandaj', 'Santa Cruz de Tenerife', 'Santander', 'Santiago', 'Sapporo', 'Sarajevo', 'Seattle', 'Sejong', 'Sendai', 'Seongnam-si', 'Seoul', 'Seremban', 'Sevilla', 'Shanghai', 'Shantou', 'Sheffield', 'Shenyang', 'Shenzhen', 'Shijiazhuang', 'Shillong', 'Shiraz', 'Shiyan', 'Shizuoka', 'Sibiu', 'Singapore', 'Sivas', 'Skopje', 'Sofia', 'Southend-on-Sea', 'Split', 'Springfield', 'Staten Island', 'Stavanger', 'Stockholm', 'Strasbourg', 'Stuttgart', 'Suncheon', 'Surrey', 'Suwon', 'Suzhou', 'Swansea', 'Sydney', 'Szczecin', 'Szeged', 'São José dos Campos', 'São Paulo', 'Tabriz', 'Taichung', 'Tainan', 'Taipei', 'Taiping', 'Taitung City', 'Taiyuan', 'Takamatsu', 'Talca', 'Tallahassee', 'Tallinn', 'Tampere', 'Taoyuan City', 'Tarnów', 'Tashkent', 'Tbilisi', 'Tehran', 'Tel Aviv', 'Temuco', 'Tepic', 'Ternopil', 'The Bronx', 'The Hague', 'Thessaloníki', 'Thiruvananthapuram', 'Thrissur', 'Tianjin', 'Timişoara', 'Tokyo', 'Toluca', 'Tomsk', 'Toronto', 'Toulon', 'Toulouse', 'Tours', 'Toyama', 'Trabzon', 'Trieste', 'Trondheim', 'Tucson', 'Turin', 'Turku', 'Tuzla', 'Ulan Bator', 'Ulsan', 'Uppsala', 'Utrecht', 'Utsunomiya', 'Valencia', 'Valladolid', 'Valparaíso', 'Vancouver', 'Vantaa', 'Vereeniging', 'Victoria', 'Vienna', 'Vientiane', 'Visakhapatnam', 'Vitória', 'Wakayama', 'Warsaw', 'Washington D.C.', 'Wellington', 'Wiesbaden', 'Winnipeg', 'Wollongong', 'Worcester', 'Wrocław', 'Wuhan', 'Wuxi', 'Xiamen', 'Xining', 'Xinxiang', 'Xi’an', 'Xuchang', 'Yangon', 'Yazd', 'Yeosu', 'Yinchuan', 'Yokohama', 'Yunfu', 'Zabrze', 'Zagreb', 'Zanjān', 'Zaporizhia', 'Zaragoza', 'Zarqa', 'Zenica', 'Zhengzhou', 'Zhuzhou', 'Zürich', 'Ürümqi', 'Īlām', 'İzmir', 'İzmit', 'Łódź', 'Ōita', 'Ḩawallī']\n"
     ]
    }
   ],
   "source": [
    "# cities found in the dataset\n",
    "print(sorted(df.city.unique()))"
   ]
  },
  {
   "cell_type": "code",
   "execution_count": 19,
   "metadata": {
    "colab": {
     "base_uri": "https://localhost:8080/",
     "height": 68
    },
    "id": "sRvG5DMNnxxL",
    "outputId": "5753e165-de17-4d8c-ee24-34bcf6aabe27"
   },
   "outputs": [
    {
     "data": {
      "text/html": [
       "\n",
       "  <style>\n",
       "    pre {\n",
       "        white-space: pre-wrap;\n",
       "    }\n",
       "  </style>\n",
       "  "
      ],
      "text/plain": [
       "<IPython.core.display.HTML object>"
      ]
     },
     "metadata": {},
     "output_type": "display_data"
    },
    {
     "name": "stdout",
     "output_type": "stream",
     "text": [
      "['aqi', 'co', 'dew', 'humidity', 'mepaqi', 'neph', 'no2', 'o3', 'pm1', 'pm10', 'pm25', 'pol', 'precipitation', 'pressure', 'so2', 'temperature', 'uvi', 'wd', 'wind gust', 'wind speed', 'wind-gust', 'wind-speed']\n"
     ]
    }
   ],
   "source": [
    "# species found in the dataset\n",
    "print(sorted(df.specie.unique()))"
   ]
  },
  {
   "cell_type": "code",
   "execution_count": 20,
   "metadata": {
    "colab": {
     "base_uri": "https://localhost:8080/",
     "height": 623
    },
    "id": "-qdvi9VxoDkb",
    "outputId": "3d9e637f-a101-4e2e-ec43-907ff15fa7ee"
   },
   "outputs": [
    {
     "data": {
      "text/html": [
       "\n",
       "  <style>\n",
       "    pre {\n",
       "        white-space: pre-wrap;\n",
       "    }\n",
       "  </style>\n",
       "  "
      ],
      "text/plain": [
       "<IPython.core.display.HTML object>"
      ]
     },
     "metadata": {},
     "output_type": "display_data"
    },
    {
     "data": {
      "text/html": [
       "<div>\n",
       "<style scoped>\n",
       "    .dataframe tbody tr th:only-of-type {\n",
       "        vertical-align: middle;\n",
       "    }\n",
       "\n",
       "    .dataframe tbody tr th {\n",
       "        vertical-align: top;\n",
       "    }\n",
       "\n",
       "    .dataframe thead th {\n",
       "        text-align: right;\n",
       "    }\n",
       "</style>\n",
       "<table border=\"1\" class=\"dataframe\">\n",
       "  <thead>\n",
       "    <tr style=\"text-align: right;\">\n",
       "      <th></th>\n",
       "      <th>date</th>\n",
       "      <th>country</th>\n",
       "      <th>city</th>\n",
       "      <th>specie</th>\n",
       "      <th>count</th>\n",
       "      <th>min</th>\n",
       "      <th>max</th>\n",
       "      <th>median</th>\n",
       "      <th>variance</th>\n",
       "    </tr>\n",
       "  </thead>\n",
       "  <tbody>\n",
       "    <tr>\n",
       "      <th>549446</th>\n",
       "      <td>2019-12-25</td>\n",
       "      <td>TR</td>\n",
       "      <td>İzmit</td>\n",
       "      <td>wind gust</td>\n",
       "      <td>144</td>\n",
       "      <td>7.0</td>\n",
       "      <td>12.6</td>\n",
       "      <td>9.1</td>\n",
       "      <td>15.06</td>\n",
       "    </tr>\n",
       "    <tr>\n",
       "      <th>549447</th>\n",
       "      <td>2019-12-26</td>\n",
       "      <td>TR</td>\n",
       "      <td>İzmit</td>\n",
       "      <td>wind gust</td>\n",
       "      <td>144</td>\n",
       "      <td>9.6</td>\n",
       "      <td>16.8</td>\n",
       "      <td>14.0</td>\n",
       "      <td>34.93</td>\n",
       "    </tr>\n",
       "    <tr>\n",
       "      <th>549448</th>\n",
       "      <td>2019-12-27</td>\n",
       "      <td>TR</td>\n",
       "      <td>İzmit</td>\n",
       "      <td>wind gust</td>\n",
       "      <td>144</td>\n",
       "      <td>1.0</td>\n",
       "      <td>14.2</td>\n",
       "      <td>4.6</td>\n",
       "      <td>148.74</td>\n",
       "    </tr>\n",
       "    <tr>\n",
       "      <th>549449</th>\n",
       "      <td>2019-12-28</td>\n",
       "      <td>TR</td>\n",
       "      <td>İzmit</td>\n",
       "      <td>wind gust</td>\n",
       "      <td>138</td>\n",
       "      <td>0.8</td>\n",
       "      <td>15.2</td>\n",
       "      <td>4.0</td>\n",
       "      <td>170.54</td>\n",
       "    </tr>\n",
       "    <tr>\n",
       "      <th>549450</th>\n",
       "      <td>2020-01-03</td>\n",
       "      <td>TR</td>\n",
       "      <td>İzmit</td>\n",
       "      <td>wind gust</td>\n",
       "      <td>36</td>\n",
       "      <td>0.3</td>\n",
       "      <td>3.0</td>\n",
       "      <td>1.3</td>\n",
       "      <td>8.21</td>\n",
       "    </tr>\n",
       "    <tr>\n",
       "      <th>549451</th>\n",
       "      <td>2020-01-04</td>\n",
       "      <td>TR</td>\n",
       "      <td>İzmit</td>\n",
       "      <td>wind gust</td>\n",
       "      <td>144</td>\n",
       "      <td>0.5</td>\n",
       "      <td>7.8</td>\n",
       "      <td>3.6</td>\n",
       "      <td>43.67</td>\n",
       "    </tr>\n",
       "    <tr>\n",
       "      <th>549452</th>\n",
       "      <td>2020-01-05</td>\n",
       "      <td>TR</td>\n",
       "      <td>İzmit</td>\n",
       "      <td>wind gust</td>\n",
       "      <td>144</td>\n",
       "      <td>0.3</td>\n",
       "      <td>7.0</td>\n",
       "      <td>2.5</td>\n",
       "      <td>28.76</td>\n",
       "    </tr>\n",
       "    <tr>\n",
       "      <th>550748</th>\n",
       "      <td>2019-12-27</td>\n",
       "      <td>TR</td>\n",
       "      <td>Ankara</td>\n",
       "      <td>wind gust</td>\n",
       "      <td>120</td>\n",
       "      <td>0.6</td>\n",
       "      <td>11.6</td>\n",
       "      <td>6.6</td>\n",
       "      <td>84.48</td>\n",
       "    </tr>\n",
       "    <tr>\n",
       "      <th>550749</th>\n",
       "      <td>2019-12-28</td>\n",
       "      <td>TR</td>\n",
       "      <td>Ankara</td>\n",
       "      <td>wind gust</td>\n",
       "      <td>100</td>\n",
       "      <td>0.1</td>\n",
       "      <td>2.5</td>\n",
       "      <td>0.4</td>\n",
       "      <td>3.08</td>\n",
       "    </tr>\n",
       "    <tr>\n",
       "      <th>550750</th>\n",
       "      <td>2020-01-03</td>\n",
       "      <td>TR</td>\n",
       "      <td>Ankara</td>\n",
       "      <td>wind gust</td>\n",
       "      <td>78</td>\n",
       "      <td>0.4</td>\n",
       "      <td>12.6</td>\n",
       "      <td>5.2</td>\n",
       "      <td>124.04</td>\n",
       "    </tr>\n",
       "    <tr>\n",
       "      <th>550751</th>\n",
       "      <td>2020-01-04</td>\n",
       "      <td>TR</td>\n",
       "      <td>Ankara</td>\n",
       "      <td>wind gust</td>\n",
       "      <td>120</td>\n",
       "      <td>0.1</td>\n",
       "      <td>4.9</td>\n",
       "      <td>1.1</td>\n",
       "      <td>23.54</td>\n",
       "    </tr>\n",
       "    <tr>\n",
       "      <th>550752</th>\n",
       "      <td>2020-01-05</td>\n",
       "      <td>TR</td>\n",
       "      <td>Ankara</td>\n",
       "      <td>wind gust</td>\n",
       "      <td>96</td>\n",
       "      <td>0.2</td>\n",
       "      <td>2.7</td>\n",
       "      <td>0.8</td>\n",
       "      <td>4.81</td>\n",
       "    </tr>\n",
       "    <tr>\n",
       "      <th>550753</th>\n",
       "      <td>2019-12-25</td>\n",
       "      <td>TR</td>\n",
       "      <td>Ankara</td>\n",
       "      <td>wind gust</td>\n",
       "      <td>126</td>\n",
       "      <td>0.2</td>\n",
       "      <td>2.3</td>\n",
       "      <td>1.6</td>\n",
       "      <td>4.04</td>\n",
       "    </tr>\n",
       "    <tr>\n",
       "      <th>550754</th>\n",
       "      <td>2019-12-26</td>\n",
       "      <td>TR</td>\n",
       "      <td>Ankara</td>\n",
       "      <td>wind gust</td>\n",
       "      <td>100</td>\n",
       "      <td>0.2</td>\n",
       "      <td>5.6</td>\n",
       "      <td>2.1</td>\n",
       "      <td>28.52</td>\n",
       "    </tr>\n",
       "    <tr>\n",
       "      <th>552001</th>\n",
       "      <td>2020-01-04</td>\n",
       "      <td>TR</td>\n",
       "      <td>Adana</td>\n",
       "      <td>wind gust</td>\n",
       "      <td>80</td>\n",
       "      <td>0.2</td>\n",
       "      <td>11.8</td>\n",
       "      <td>6.1</td>\n",
       "      <td>114.43</td>\n",
       "    </tr>\n",
       "    <tr>\n",
       "      <th>552002</th>\n",
       "      <td>2020-01-05</td>\n",
       "      <td>TR</td>\n",
       "      <td>Adana</td>\n",
       "      <td>wind gust</td>\n",
       "      <td>72</td>\n",
       "      <td>0.2</td>\n",
       "      <td>17.3</td>\n",
       "      <td>6.6</td>\n",
       "      <td>231.13</td>\n",
       "    </tr>\n",
       "    <tr>\n",
       "      <th>552003</th>\n",
       "      <td>2019-12-25</td>\n",
       "      <td>TR</td>\n",
       "      <td>Adana</td>\n",
       "      <td>wind gust</td>\n",
       "      <td>96</td>\n",
       "      <td>4.1</td>\n",
       "      <td>38.3</td>\n",
       "      <td>11.3</td>\n",
       "      <td>677.02</td>\n",
       "    </tr>\n",
       "    <tr>\n",
       "      <th>552004</th>\n",
       "      <td>2019-12-26</td>\n",
       "      <td>TR</td>\n",
       "      <td>Adana</td>\n",
       "      <td>wind gust</td>\n",
       "      <td>96</td>\n",
       "      <td>5.1</td>\n",
       "      <td>18.0</td>\n",
       "      <td>9.6</td>\n",
       "      <td>132.63</td>\n",
       "    </tr>\n",
       "    <tr>\n",
       "      <th>552005</th>\n",
       "      <td>2019-12-27</td>\n",
       "      <td>TR</td>\n",
       "      <td>Adana</td>\n",
       "      <td>wind gust</td>\n",
       "      <td>80</td>\n",
       "      <td>0.2</td>\n",
       "      <td>14.5</td>\n",
       "      <td>7.6</td>\n",
       "      <td>222.21</td>\n",
       "    </tr>\n",
       "    <tr>\n",
       "      <th>552006</th>\n",
       "      <td>2019-12-28</td>\n",
       "      <td>TR</td>\n",
       "      <td>Adana</td>\n",
       "      <td>wind gust</td>\n",
       "      <td>92</td>\n",
       "      <td>0.8</td>\n",
       "      <td>15.8</td>\n",
       "      <td>9.4</td>\n",
       "      <td>228.47</td>\n",
       "    </tr>\n",
       "    <tr>\n",
       "      <th>552007</th>\n",
       "      <td>2020-01-03</td>\n",
       "      <td>TR</td>\n",
       "      <td>Adana</td>\n",
       "      <td>wind gust</td>\n",
       "      <td>4</td>\n",
       "      <td>5.6</td>\n",
       "      <td>5.6</td>\n",
       "      <td>5.6</td>\n",
       "      <td>0.00</td>\n",
       "    </tr>\n",
       "    <tr>\n",
       "      <th>553582</th>\n",
       "      <td>2019-12-25</td>\n",
       "      <td>TR</td>\n",
       "      <td>Kayseri</td>\n",
       "      <td>wind gust</td>\n",
       "      <td>9</td>\n",
       "      <td>11.8</td>\n",
       "      <td>13.8</td>\n",
       "      <td>13.8</td>\n",
       "      <td>10.00</td>\n",
       "    </tr>\n",
       "    <tr>\n",
       "      <th>555514</th>\n",
       "      <td>2020-01-05</td>\n",
       "      <td>TR</td>\n",
       "      <td>Balıkesir</td>\n",
       "      <td>wind gust</td>\n",
       "      <td>12</td>\n",
       "      <td>14.9</td>\n",
       "      <td>16.9</td>\n",
       "      <td>15.9</td>\n",
       "      <td>4.92</td>\n",
       "    </tr>\n",
       "    <tr>\n",
       "      <th>556453</th>\n",
       "      <td>2020-01-04</td>\n",
       "      <td>TR</td>\n",
       "      <td>Adapazarı</td>\n",
       "      <td>wind gust</td>\n",
       "      <td>72</td>\n",
       "      <td>0.5</td>\n",
       "      <td>7.8</td>\n",
       "      <td>3.6</td>\n",
       "      <td>43.98</td>\n",
       "    </tr>\n",
       "    <tr>\n",
       "      <th>556454</th>\n",
       "      <td>2020-01-05</td>\n",
       "      <td>TR</td>\n",
       "      <td>Adapazarı</td>\n",
       "      <td>wind gust</td>\n",
       "      <td>72</td>\n",
       "      <td>0.3</td>\n",
       "      <td>7.0</td>\n",
       "      <td>2.5</td>\n",
       "      <td>28.97</td>\n",
       "    </tr>\n",
       "    <tr>\n",
       "      <th>556455</th>\n",
       "      <td>2019-12-25</td>\n",
       "      <td>TR</td>\n",
       "      <td>Adapazarı</td>\n",
       "      <td>wind gust</td>\n",
       "      <td>72</td>\n",
       "      <td>7.0</td>\n",
       "      <td>12.6</td>\n",
       "      <td>9.1</td>\n",
       "      <td>15.17</td>\n",
       "    </tr>\n",
       "    <tr>\n",
       "      <th>556456</th>\n",
       "      <td>2019-12-26</td>\n",
       "      <td>TR</td>\n",
       "      <td>Adapazarı</td>\n",
       "      <td>wind gust</td>\n",
       "      <td>72</td>\n",
       "      <td>9.6</td>\n",
       "      <td>16.8</td>\n",
       "      <td>14.0</td>\n",
       "      <td>35.18</td>\n",
       "    </tr>\n",
       "    <tr>\n",
       "      <th>556457</th>\n",
       "      <td>2019-12-27</td>\n",
       "      <td>TR</td>\n",
       "      <td>Adapazarı</td>\n",
       "      <td>wind gust</td>\n",
       "      <td>72</td>\n",
       "      <td>1.0</td>\n",
       "      <td>14.2</td>\n",
       "      <td>4.6</td>\n",
       "      <td>149.79</td>\n",
       "    </tr>\n",
       "    <tr>\n",
       "      <th>556458</th>\n",
       "      <td>2019-12-28</td>\n",
       "      <td>TR</td>\n",
       "      <td>Adapazarı</td>\n",
       "      <td>wind gust</td>\n",
       "      <td>70</td>\n",
       "      <td>0.8</td>\n",
       "      <td>15.2</td>\n",
       "      <td>4.0</td>\n",
       "      <td>171.10</td>\n",
       "    </tr>\n",
       "    <tr>\n",
       "      <th>556459</th>\n",
       "      <td>2020-01-03</td>\n",
       "      <td>TR</td>\n",
       "      <td>Adapazarı</td>\n",
       "      <td>wind gust</td>\n",
       "      <td>18</td>\n",
       "      <td>0.3</td>\n",
       "      <td>3.0</td>\n",
       "      <td>1.3</td>\n",
       "      <td>8.45</td>\n",
       "    </tr>\n",
       "    <tr>\n",
       "      <th>557395</th>\n",
       "      <td>2019-12-25</td>\n",
       "      <td>TR</td>\n",
       "      <td>Trabzon</td>\n",
       "      <td>wind gust</td>\n",
       "      <td>20</td>\n",
       "      <td>9.2</td>\n",
       "      <td>11.8</td>\n",
       "      <td>9.7</td>\n",
       "      <td>12.26</td>\n",
       "    </tr>\n",
       "    <tr>\n",
       "      <th>557396</th>\n",
       "      <td>2020-01-03</td>\n",
       "      <td>TR</td>\n",
       "      <td>Trabzon</td>\n",
       "      <td>wind gust</td>\n",
       "      <td>5</td>\n",
       "      <td>6.6</td>\n",
       "      <td>6.6</td>\n",
       "      <td>6.6</td>\n",
       "      <td>0.00</td>\n",
       "    </tr>\n",
       "    <tr>\n",
       "      <th>557397</th>\n",
       "      <td>2020-01-04</td>\n",
       "      <td>TR</td>\n",
       "      <td>Trabzon</td>\n",
       "      <td>wind gust</td>\n",
       "      <td>5</td>\n",
       "      <td>8.2</td>\n",
       "      <td>8.2</td>\n",
       "      <td>8.2</td>\n",
       "      <td>0.00</td>\n",
       "    </tr>\n",
       "    <tr>\n",
       "      <th>557398</th>\n",
       "      <td>2020-01-05</td>\n",
       "      <td>TR</td>\n",
       "      <td>Trabzon</td>\n",
       "      <td>wind gust</td>\n",
       "      <td>5</td>\n",
       "      <td>7.7</td>\n",
       "      <td>7.7</td>\n",
       "      <td>7.7</td>\n",
       "      <td>0.00</td>\n",
       "    </tr>\n",
       "    <tr>\n",
       "      <th>558484</th>\n",
       "      <td>2019-12-26</td>\n",
       "      <td>TR</td>\n",
       "      <td>Antakya</td>\n",
       "      <td>wind gust</td>\n",
       "      <td>24</td>\n",
       "      <td>5.1</td>\n",
       "      <td>18.0</td>\n",
       "      <td>9.6</td>\n",
       "      <td>136.95</td>\n",
       "    </tr>\n",
       "    <tr>\n",
       "      <th>558485</th>\n",
       "      <td>2019-12-27</td>\n",
       "      <td>TR</td>\n",
       "      <td>Antakya</td>\n",
       "      <td>wind gust</td>\n",
       "      <td>20</td>\n",
       "      <td>0.2</td>\n",
       "      <td>14.5</td>\n",
       "      <td>7.6</td>\n",
       "      <td>230.98</td>\n",
       "    </tr>\n",
       "    <tr>\n",
       "      <th>558486</th>\n",
       "      <td>2019-12-28</td>\n",
       "      <td>TR</td>\n",
       "      <td>Antakya</td>\n",
       "      <td>wind gust</td>\n",
       "      <td>23</td>\n",
       "      <td>0.8</td>\n",
       "      <td>15.8</td>\n",
       "      <td>9.4</td>\n",
       "      <td>236.27</td>\n",
       "    </tr>\n",
       "    <tr>\n",
       "      <th>558487</th>\n",
       "      <td>2020-01-03</td>\n",
       "      <td>TR</td>\n",
       "      <td>Antakya</td>\n",
       "      <td>wind gust</td>\n",
       "      <td>15</td>\n",
       "      <td>1.8</td>\n",
       "      <td>15.0</td>\n",
       "      <td>8.4</td>\n",
       "      <td>223.24</td>\n",
       "    </tr>\n",
       "    <tr>\n",
       "      <th>558488</th>\n",
       "      <td>2020-01-04</td>\n",
       "      <td>TR</td>\n",
       "      <td>Antakya</td>\n",
       "      <td>wind gust</td>\n",
       "      <td>20</td>\n",
       "      <td>0.2</td>\n",
       "      <td>11.8</td>\n",
       "      <td>6.1</td>\n",
       "      <td>118.95</td>\n",
       "    </tr>\n",
       "    <tr>\n",
       "      <th>558489</th>\n",
       "      <td>2020-01-05</td>\n",
       "      <td>TR</td>\n",
       "      <td>Antakya</td>\n",
       "      <td>wind gust</td>\n",
       "      <td>18</td>\n",
       "      <td>0.2</td>\n",
       "      <td>17.3</td>\n",
       "      <td>6.6</td>\n",
       "      <td>241.33</td>\n",
       "    </tr>\n",
       "    <tr>\n",
       "      <th>558490</th>\n",
       "      <td>2019-12-25</td>\n",
       "      <td>TR</td>\n",
       "      <td>Antakya</td>\n",
       "      <td>wind gust</td>\n",
       "      <td>24</td>\n",
       "      <td>4.1</td>\n",
       "      <td>38.3</td>\n",
       "      <td>11.3</td>\n",
       "      <td>699.09</td>\n",
       "    </tr>\n",
       "    <tr>\n",
       "      <th>563015</th>\n",
       "      <td>2020-01-05</td>\n",
       "      <td>TR</td>\n",
       "      <td>Istanbul</td>\n",
       "      <td>wind gust</td>\n",
       "      <td>504</td>\n",
       "      <td>0.8</td>\n",
       "      <td>10.8</td>\n",
       "      <td>2.7</td>\n",
       "      <td>89.00</td>\n",
       "    </tr>\n",
       "    <tr>\n",
       "      <th>563016</th>\n",
       "      <td>2019-12-25</td>\n",
       "      <td>TR</td>\n",
       "      <td>Istanbul</td>\n",
       "      <td>wind gust</td>\n",
       "      <td>600</td>\n",
       "      <td>7.0</td>\n",
       "      <td>15.2</td>\n",
       "      <td>9.2</td>\n",
       "      <td>17.90</td>\n",
       "    </tr>\n",
       "    <tr>\n",
       "      <th>563017</th>\n",
       "      <td>2019-12-26</td>\n",
       "      <td>TR</td>\n",
       "      <td>Istanbul</td>\n",
       "      <td>wind gust</td>\n",
       "      <td>598</td>\n",
       "      <td>9.6</td>\n",
       "      <td>16.8</td>\n",
       "      <td>14.0</td>\n",
       "      <td>34.79</td>\n",
       "    </tr>\n",
       "    <tr>\n",
       "      <th>563018</th>\n",
       "      <td>2019-12-27</td>\n",
       "      <td>TR</td>\n",
       "      <td>Istanbul</td>\n",
       "      <td>wind gust</td>\n",
       "      <td>600</td>\n",
       "      <td>1.0</td>\n",
       "      <td>14.2</td>\n",
       "      <td>5.6</td>\n",
       "      <td>142.54</td>\n",
       "    </tr>\n",
       "    <tr>\n",
       "      <th>563019</th>\n",
       "      <td>2019-12-28</td>\n",
       "      <td>TR</td>\n",
       "      <td>Istanbul</td>\n",
       "      <td>wind gust</td>\n",
       "      <td>576</td>\n",
       "      <td>0.8</td>\n",
       "      <td>26.5</td>\n",
       "      <td>4.6</td>\n",
       "      <td>239.94</td>\n",
       "    </tr>\n",
       "    <tr>\n",
       "      <th>563020</th>\n",
       "      <td>2020-01-03</td>\n",
       "      <td>TR</td>\n",
       "      <td>Istanbul</td>\n",
       "      <td>wind gust</td>\n",
       "      <td>21</td>\n",
       "      <td>1.2</td>\n",
       "      <td>1.2</td>\n",
       "      <td>1.2</td>\n",
       "      <td>0.00</td>\n",
       "    </tr>\n",
       "    <tr>\n",
       "      <th>563021</th>\n",
       "      <td>2020-01-04</td>\n",
       "      <td>TR</td>\n",
       "      <td>Istanbul</td>\n",
       "      <td>wind gust</td>\n",
       "      <td>504</td>\n",
       "      <td>0.5</td>\n",
       "      <td>7.8</td>\n",
       "      <td>3.6</td>\n",
       "      <td>38.84</td>\n",
       "    </tr>\n",
       "    <tr>\n",
       "      <th>564571</th>\n",
       "      <td>2019-12-25</td>\n",
       "      <td>TR</td>\n",
       "      <td>Erzurum</td>\n",
       "      <td>wind gust</td>\n",
       "      <td>8</td>\n",
       "      <td>11.3</td>\n",
       "      <td>13.8</td>\n",
       "      <td>11.3</td>\n",
       "      <td>17.86</td>\n",
       "    </tr>\n",
       "  </tbody>\n",
       "</table>\n",
       "</div>"
      ],
      "text/plain": [
       "              date country       city     specie  count   min   max  median  \\\n",
       "549446  2019-12-25      TR      İzmit  wind gust    144   7.0  12.6     9.1   \n",
       "549447  2019-12-26      TR      İzmit  wind gust    144   9.6  16.8    14.0   \n",
       "549448  2019-12-27      TR      İzmit  wind gust    144   1.0  14.2     4.6   \n",
       "549449  2019-12-28      TR      İzmit  wind gust    138   0.8  15.2     4.0   \n",
       "549450  2020-01-03      TR      İzmit  wind gust     36   0.3   3.0     1.3   \n",
       "549451  2020-01-04      TR      İzmit  wind gust    144   0.5   7.8     3.6   \n",
       "549452  2020-01-05      TR      İzmit  wind gust    144   0.3   7.0     2.5   \n",
       "550748  2019-12-27      TR     Ankara  wind gust    120   0.6  11.6     6.6   \n",
       "550749  2019-12-28      TR     Ankara  wind gust    100   0.1   2.5     0.4   \n",
       "550750  2020-01-03      TR     Ankara  wind gust     78   0.4  12.6     5.2   \n",
       "550751  2020-01-04      TR     Ankara  wind gust    120   0.1   4.9     1.1   \n",
       "550752  2020-01-05      TR     Ankara  wind gust     96   0.2   2.7     0.8   \n",
       "550753  2019-12-25      TR     Ankara  wind gust    126   0.2   2.3     1.6   \n",
       "550754  2019-12-26      TR     Ankara  wind gust    100   0.2   5.6     2.1   \n",
       "552001  2020-01-04      TR      Adana  wind gust     80   0.2  11.8     6.1   \n",
       "552002  2020-01-05      TR      Adana  wind gust     72   0.2  17.3     6.6   \n",
       "552003  2019-12-25      TR      Adana  wind gust     96   4.1  38.3    11.3   \n",
       "552004  2019-12-26      TR      Adana  wind gust     96   5.1  18.0     9.6   \n",
       "552005  2019-12-27      TR      Adana  wind gust     80   0.2  14.5     7.6   \n",
       "552006  2019-12-28      TR      Adana  wind gust     92   0.8  15.8     9.4   \n",
       "552007  2020-01-03      TR      Adana  wind gust      4   5.6   5.6     5.6   \n",
       "553582  2019-12-25      TR    Kayseri  wind gust      9  11.8  13.8    13.8   \n",
       "555514  2020-01-05      TR  Balıkesir  wind gust     12  14.9  16.9    15.9   \n",
       "556453  2020-01-04      TR  Adapazarı  wind gust     72   0.5   7.8     3.6   \n",
       "556454  2020-01-05      TR  Adapazarı  wind gust     72   0.3   7.0     2.5   \n",
       "556455  2019-12-25      TR  Adapazarı  wind gust     72   7.0  12.6     9.1   \n",
       "556456  2019-12-26      TR  Adapazarı  wind gust     72   9.6  16.8    14.0   \n",
       "556457  2019-12-27      TR  Adapazarı  wind gust     72   1.0  14.2     4.6   \n",
       "556458  2019-12-28      TR  Adapazarı  wind gust     70   0.8  15.2     4.0   \n",
       "556459  2020-01-03      TR  Adapazarı  wind gust     18   0.3   3.0     1.3   \n",
       "557395  2019-12-25      TR    Trabzon  wind gust     20   9.2  11.8     9.7   \n",
       "557396  2020-01-03      TR    Trabzon  wind gust      5   6.6   6.6     6.6   \n",
       "557397  2020-01-04      TR    Trabzon  wind gust      5   8.2   8.2     8.2   \n",
       "557398  2020-01-05      TR    Trabzon  wind gust      5   7.7   7.7     7.7   \n",
       "558484  2019-12-26      TR    Antakya  wind gust     24   5.1  18.0     9.6   \n",
       "558485  2019-12-27      TR    Antakya  wind gust     20   0.2  14.5     7.6   \n",
       "558486  2019-12-28      TR    Antakya  wind gust     23   0.8  15.8     9.4   \n",
       "558487  2020-01-03      TR    Antakya  wind gust     15   1.8  15.0     8.4   \n",
       "558488  2020-01-04      TR    Antakya  wind gust     20   0.2  11.8     6.1   \n",
       "558489  2020-01-05      TR    Antakya  wind gust     18   0.2  17.3     6.6   \n",
       "558490  2019-12-25      TR    Antakya  wind gust     24   4.1  38.3    11.3   \n",
       "563015  2020-01-05      TR   Istanbul  wind gust    504   0.8  10.8     2.7   \n",
       "563016  2019-12-25      TR   Istanbul  wind gust    600   7.0  15.2     9.2   \n",
       "563017  2019-12-26      TR   Istanbul  wind gust    598   9.6  16.8    14.0   \n",
       "563018  2019-12-27      TR   Istanbul  wind gust    600   1.0  14.2     5.6   \n",
       "563019  2019-12-28      TR   Istanbul  wind gust    576   0.8  26.5     4.6   \n",
       "563020  2020-01-03      TR   Istanbul  wind gust     21   1.2   1.2     1.2   \n",
       "563021  2020-01-04      TR   Istanbul  wind gust    504   0.5   7.8     3.6   \n",
       "564571  2019-12-25      TR    Erzurum  wind gust      8  11.3  13.8    11.3   \n",
       "\n",
       "        variance  \n",
       "549446     15.06  \n",
       "549447     34.93  \n",
       "549448    148.74  \n",
       "549449    170.54  \n",
       "549450      8.21  \n",
       "549451     43.67  \n",
       "549452     28.76  \n",
       "550748     84.48  \n",
       "550749      3.08  \n",
       "550750    124.04  \n",
       "550751     23.54  \n",
       "550752      4.81  \n",
       "550753      4.04  \n",
       "550754     28.52  \n",
       "552001    114.43  \n",
       "552002    231.13  \n",
       "552003    677.02  \n",
       "552004    132.63  \n",
       "552005    222.21  \n",
       "552006    228.47  \n",
       "552007      0.00  \n",
       "553582     10.00  \n",
       "555514      4.92  \n",
       "556453     43.98  \n",
       "556454     28.97  \n",
       "556455     15.17  \n",
       "556456     35.18  \n",
       "556457    149.79  \n",
       "556458    171.10  \n",
       "556459      8.45  \n",
       "557395     12.26  \n",
       "557396      0.00  \n",
       "557397      0.00  \n",
       "557398      0.00  \n",
       "558484    136.95  \n",
       "558485    230.98  \n",
       "558486    236.27  \n",
       "558487    223.24  \n",
       "558488    118.95  \n",
       "558489    241.33  \n",
       "558490    699.09  \n",
       "563015     89.00  \n",
       "563016     17.90  \n",
       "563017     34.79  \n",
       "563018    142.54  \n",
       "563019    239.94  \n",
       "563020      0.00  \n",
       "563021     38.84  \n",
       "564571     17.86  "
      ]
     },
     "execution_count": 20,
     "metadata": {},
     "output_type": "execute_result"
    }
   ],
   "source": [
    "# we might have duplicated columns ('wind gust' and 'wind-gust', 'wind speed'\n",
    "# and 'wind-speed'), so, let's check that\n",
    "df1 = df[(df.country == 'TR') & (df.specie == 'wind gust')]\n",
    "df1"
   ]
  },
  {
   "cell_type": "code",
   "execution_count": 21,
   "metadata": {
    "colab": {
     "base_uri": "https://localhost:8080/",
     "height": 623
    },
    "id": "HdIcjYrXpHpE",
    "outputId": "28d6f101-932d-488f-ad8b-4eeedd9d84ed"
   },
   "outputs": [
    {
     "data": {
      "text/html": [
       "\n",
       "  <style>\n",
       "    pre {\n",
       "        white-space: pre-wrap;\n",
       "    }\n",
       "  </style>\n",
       "  "
      ],
      "text/plain": [
       "<IPython.core.display.HTML object>"
      ]
     },
     "metadata": {},
     "output_type": "display_data"
    },
    {
     "data": {
      "text/html": [
       "<div>\n",
       "<style scoped>\n",
       "    .dataframe tbody tr th:only-of-type {\n",
       "        vertical-align: middle;\n",
       "    }\n",
       "\n",
       "    .dataframe tbody tr th {\n",
       "        vertical-align: top;\n",
       "    }\n",
       "\n",
       "    .dataframe thead th {\n",
       "        text-align: right;\n",
       "    }\n",
       "</style>\n",
       "<table border=\"1\" class=\"dataframe\">\n",
       "  <thead>\n",
       "    <tr style=\"text-align: right;\">\n",
       "      <th></th>\n",
       "      <th>date</th>\n",
       "      <th>country</th>\n",
       "      <th>city</th>\n",
       "      <th>specie</th>\n",
       "      <th>count</th>\n",
       "      <th>min</th>\n",
       "      <th>max</th>\n",
       "      <th>median</th>\n",
       "      <th>variance</th>\n",
       "    </tr>\n",
       "  </thead>\n",
       "  <tbody>\n",
       "    <tr>\n",
       "      <th>548141</th>\n",
       "      <td>2019-12-23</td>\n",
       "      <td>TR</td>\n",
       "      <td>Eskişehir</td>\n",
       "      <td>wind-gust</td>\n",
       "      <td>2</td>\n",
       "      <td>9.2</td>\n",
       "      <td>9.7</td>\n",
       "      <td>9.2</td>\n",
       "      <td>1.25</td>\n",
       "    </tr>\n",
       "    <tr>\n",
       "      <th>548974</th>\n",
       "      <td>2019-11-02</td>\n",
       "      <td>TR</td>\n",
       "      <td>İzmit</td>\n",
       "      <td>wind-gust</td>\n",
       "      <td>144</td>\n",
       "      <td>0.7</td>\n",
       "      <td>11.8</td>\n",
       "      <td>2.8</td>\n",
       "      <td>90.98</td>\n",
       "    </tr>\n",
       "    <tr>\n",
       "      <th>548975</th>\n",
       "      <td>2019-11-12</td>\n",
       "      <td>TR</td>\n",
       "      <td>İzmit</td>\n",
       "      <td>wind-gust</td>\n",
       "      <td>144</td>\n",
       "      <td>0.3</td>\n",
       "      <td>3.2</td>\n",
       "      <td>1.1</td>\n",
       "      <td>5.99</td>\n",
       "    </tr>\n",
       "    <tr>\n",
       "      <th>548976</th>\n",
       "      <td>2019-11-15</td>\n",
       "      <td>TR</td>\n",
       "      <td>İzmit</td>\n",
       "      <td>wind-gust</td>\n",
       "      <td>144</td>\n",
       "      <td>0.5</td>\n",
       "      <td>3.0</td>\n",
       "      <td>1.2</td>\n",
       "      <td>5.92</td>\n",
       "    </tr>\n",
       "    <tr>\n",
       "      <th>548977</th>\n",
       "      <td>2019-12-11</td>\n",
       "      <td>TR</td>\n",
       "      <td>İzmit</td>\n",
       "      <td>wind-gust</td>\n",
       "      <td>138</td>\n",
       "      <td>0.7</td>\n",
       "      <td>9.0</td>\n",
       "      <td>2.1</td>\n",
       "      <td>63.33</td>\n",
       "    </tr>\n",
       "    <tr>\n",
       "      <th>...</th>\n",
       "      <td>...</td>\n",
       "      <td>...</td>\n",
       "      <td>...</td>\n",
       "      <td>...</td>\n",
       "      <td>...</td>\n",
       "      <td>...</td>\n",
       "      <td>...</td>\n",
       "      <td>...</td>\n",
       "      <td>...</td>\n",
       "    </tr>\n",
       "    <tr>\n",
       "      <th>564363</th>\n",
       "      <td>2019-11-03</td>\n",
       "      <td>TR</td>\n",
       "      <td>Erzurum</td>\n",
       "      <td>wind-gust</td>\n",
       "      <td>4</td>\n",
       "      <td>6.6</td>\n",
       "      <td>6.6</td>\n",
       "      <td>6.6</td>\n",
       "      <td>0.00</td>\n",
       "    </tr>\n",
       "    <tr>\n",
       "      <th>564364</th>\n",
       "      <td>2019-11-27</td>\n",
       "      <td>TR</td>\n",
       "      <td>Erzurum</td>\n",
       "      <td>wind-gust</td>\n",
       "      <td>4</td>\n",
       "      <td>9.7</td>\n",
       "      <td>9.7</td>\n",
       "      <td>9.7</td>\n",
       "      <td>0.00</td>\n",
       "    </tr>\n",
       "    <tr>\n",
       "      <th>564365</th>\n",
       "      <td>2019-11-29</td>\n",
       "      <td>TR</td>\n",
       "      <td>Erzurum</td>\n",
       "      <td>wind-gust</td>\n",
       "      <td>16</td>\n",
       "      <td>9.2</td>\n",
       "      <td>12.3</td>\n",
       "      <td>10.8</td>\n",
       "      <td>13.39</td>\n",
       "    </tr>\n",
       "    <tr>\n",
       "      <th>564366</th>\n",
       "      <td>2019-10-08</td>\n",
       "      <td>TR</td>\n",
       "      <td>Erzurum</td>\n",
       "      <td>wind-gust</td>\n",
       "      <td>12</td>\n",
       "      <td>11.3</td>\n",
       "      <td>12.3</td>\n",
       "      <td>11.3</td>\n",
       "      <td>2.42</td>\n",
       "    </tr>\n",
       "    <tr>\n",
       "      <th>564367</th>\n",
       "      <td>2019-10-18</td>\n",
       "      <td>TR</td>\n",
       "      <td>Erzurum</td>\n",
       "      <td>wind-gust</td>\n",
       "      <td>4</td>\n",
       "      <td>12.8</td>\n",
       "      <td>12.8</td>\n",
       "      <td>12.8</td>\n",
       "      <td>0.00</td>\n",
       "    </tr>\n",
       "  </tbody>\n",
       "</table>\n",
       "<p>682 rows × 9 columns</p>\n",
       "</div>"
      ],
      "text/plain": [
       "              date country       city     specie  count   min   max  median  \\\n",
       "548141  2019-12-23      TR  Eskişehir  wind-gust      2   9.2   9.7     9.2   \n",
       "548974  2019-11-02      TR      İzmit  wind-gust    144   0.7  11.8     2.8   \n",
       "548975  2019-11-12      TR      İzmit  wind-gust    144   0.3   3.2     1.1   \n",
       "548976  2019-11-15      TR      İzmit  wind-gust    144   0.5   3.0     1.2   \n",
       "548977  2019-12-11      TR      İzmit  wind-gust    138   0.7   9.0     2.1   \n",
       "...            ...     ...        ...        ...    ...   ...   ...     ...   \n",
       "564363  2019-11-03      TR    Erzurum  wind-gust      4   6.6   6.6     6.6   \n",
       "564364  2019-11-27      TR    Erzurum  wind-gust      4   9.7   9.7     9.7   \n",
       "564365  2019-11-29      TR    Erzurum  wind-gust     16   9.2  12.3    10.8   \n",
       "564366  2019-10-08      TR    Erzurum  wind-gust     12  11.3  12.3    11.3   \n",
       "564367  2019-10-18      TR    Erzurum  wind-gust      4  12.8  12.8    12.8   \n",
       "\n",
       "        variance  \n",
       "548141      1.25  \n",
       "548974     90.98  \n",
       "548975      5.99  \n",
       "548976      5.92  \n",
       "548977     63.33  \n",
       "...          ...  \n",
       "564363      0.00  \n",
       "564364      0.00  \n",
       "564365     13.39  \n",
       "564366      2.42  \n",
       "564367      0.00  \n",
       "\n",
       "[682 rows x 9 columns]"
      ]
     },
     "execution_count": 21,
     "metadata": {},
     "output_type": "execute_result"
    }
   ],
   "source": [
    "df2 = df[(df.country == 'TR') & (df.specie == 'wind-gust')]\n",
    "df2"
   ]
  },
  {
   "cell_type": "code",
   "execution_count": 22,
   "metadata": {
    "colab": {
     "base_uri": "https://localhost:8080/",
     "height": 425
    },
    "id": "o5tL2MZ7p4sZ",
    "outputId": "0ac56f59-89af-4e1b-d99d-47d845842608"
   },
   "outputs": [
    {
     "data": {
      "text/html": [
       "\n",
       "  <style>\n",
       "    pre {\n",
       "        white-space: pre-wrap;\n",
       "    }\n",
       "  </style>\n",
       "  "
      ],
      "text/plain": [
       "<IPython.core.display.HTML object>"
      ]
     },
     "metadata": {},
     "output_type": "display_data"
    },
    {
     "data": {
      "text/html": [
       "<div>\n",
       "<style scoped>\n",
       "    .dataframe tbody tr th:only-of-type {\n",
       "        vertical-align: middle;\n",
       "    }\n",
       "\n",
       "    .dataframe tbody tr th {\n",
       "        vertical-align: top;\n",
       "    }\n",
       "\n",
       "    .dataframe thead th {\n",
       "        text-align: right;\n",
       "    }\n",
       "</style>\n",
       "<table border=\"1\" class=\"dataframe\">\n",
       "  <thead>\n",
       "    <tr style=\"text-align: right;\">\n",
       "      <th></th>\n",
       "      <th>date</th>\n",
       "      <th>country</th>\n",
       "      <th>city</th>\n",
       "      <th>specie</th>\n",
       "      <th>count</th>\n",
       "      <th>min</th>\n",
       "      <th>max</th>\n",
       "      <th>median</th>\n",
       "      <th>variance</th>\n",
       "    </tr>\n",
       "  </thead>\n",
       "  <tbody>\n",
       "    <tr>\n",
       "      <th>552642</th>\n",
       "      <td>2020-01-05</td>\n",
       "      <td>TR</td>\n",
       "      <td>Adana</td>\n",
       "      <td>wind-gust</td>\n",
       "      <td>72</td>\n",
       "      <td>0.2</td>\n",
       "      <td>17.3</td>\n",
       "      <td>6.6</td>\n",
       "      <td>231.13</td>\n",
       "    </tr>\n",
       "    <tr>\n",
       "      <th>552002</th>\n",
       "      <td>2020-01-05</td>\n",
       "      <td>TR</td>\n",
       "      <td>Adana</td>\n",
       "      <td>wind gust</td>\n",
       "      <td>72</td>\n",
       "      <td>0.2</td>\n",
       "      <td>17.3</td>\n",
       "      <td>6.6</td>\n",
       "      <td>231.13</td>\n",
       "    </tr>\n",
       "    <tr>\n",
       "      <th>555981</th>\n",
       "      <td>2020-01-05</td>\n",
       "      <td>TR</td>\n",
       "      <td>Adapazarı</td>\n",
       "      <td>wind-gust</td>\n",
       "      <td>72</td>\n",
       "      <td>0.3</td>\n",
       "      <td>7.0</td>\n",
       "      <td>2.5</td>\n",
       "      <td>28.97</td>\n",
       "    </tr>\n",
       "    <tr>\n",
       "      <th>556454</th>\n",
       "      <td>2020-01-05</td>\n",
       "      <td>TR</td>\n",
       "      <td>Adapazarı</td>\n",
       "      <td>wind gust</td>\n",
       "      <td>72</td>\n",
       "      <td>0.3</td>\n",
       "      <td>7.0</td>\n",
       "      <td>2.5</td>\n",
       "      <td>28.97</td>\n",
       "    </tr>\n",
       "    <tr>\n",
       "      <th>550752</th>\n",
       "      <td>2020-01-05</td>\n",
       "      <td>TR</td>\n",
       "      <td>Ankara</td>\n",
       "      <td>wind gust</td>\n",
       "      <td>96</td>\n",
       "      <td>0.2</td>\n",
       "      <td>2.7</td>\n",
       "      <td>0.8</td>\n",
       "      <td>4.81</td>\n",
       "    </tr>\n",
       "    <tr>\n",
       "      <th>551098</th>\n",
       "      <td>2020-01-05</td>\n",
       "      <td>TR</td>\n",
       "      <td>Ankara</td>\n",
       "      <td>wind-gust</td>\n",
       "      <td>96</td>\n",
       "      <td>0.2</td>\n",
       "      <td>2.7</td>\n",
       "      <td>0.8</td>\n",
       "      <td>4.81</td>\n",
       "    </tr>\n",
       "    <tr>\n",
       "      <th>558489</th>\n",
       "      <td>2020-01-05</td>\n",
       "      <td>TR</td>\n",
       "      <td>Antakya</td>\n",
       "      <td>wind gust</td>\n",
       "      <td>18</td>\n",
       "      <td>0.2</td>\n",
       "      <td>17.3</td>\n",
       "      <td>6.6</td>\n",
       "      <td>241.33</td>\n",
       "    </tr>\n",
       "    <tr>\n",
       "      <th>557876</th>\n",
       "      <td>2020-01-05</td>\n",
       "      <td>TR</td>\n",
       "      <td>Antakya</td>\n",
       "      <td>wind-gust</td>\n",
       "      <td>18</td>\n",
       "      <td>0.2</td>\n",
       "      <td>17.3</td>\n",
       "      <td>6.6</td>\n",
       "      <td>241.33</td>\n",
       "    </tr>\n",
       "    <tr>\n",
       "      <th>555514</th>\n",
       "      <td>2020-01-05</td>\n",
       "      <td>TR</td>\n",
       "      <td>Balıkesir</td>\n",
       "      <td>wind gust</td>\n",
       "      <td>12</td>\n",
       "      <td>14.9</td>\n",
       "      <td>16.9</td>\n",
       "      <td>15.9</td>\n",
       "      <td>4.92</td>\n",
       "    </tr>\n",
       "    <tr>\n",
       "      <th>554969</th>\n",
       "      <td>2020-01-05</td>\n",
       "      <td>TR</td>\n",
       "      <td>Balıkesir</td>\n",
       "      <td>wind-gust</td>\n",
       "      <td>12</td>\n",
       "      <td>14.9</td>\n",
       "      <td>16.9</td>\n",
       "      <td>15.9</td>\n",
       "      <td>4.92</td>\n",
       "    </tr>\n",
       "    <tr>\n",
       "      <th>562720</th>\n",
       "      <td>2020-01-05</td>\n",
       "      <td>TR</td>\n",
       "      <td>Istanbul</td>\n",
       "      <td>wind-gust</td>\n",
       "      <td>504</td>\n",
       "      <td>0.8</td>\n",
       "      <td>10.8</td>\n",
       "      <td>2.7</td>\n",
       "      <td>89.00</td>\n",
       "    </tr>\n",
       "    <tr>\n",
       "      <th>563015</th>\n",
       "      <td>2020-01-05</td>\n",
       "      <td>TR</td>\n",
       "      <td>Istanbul</td>\n",
       "      <td>wind gust</td>\n",
       "      <td>504</td>\n",
       "      <td>0.8</td>\n",
       "      <td>10.8</td>\n",
       "      <td>2.7</td>\n",
       "      <td>89.00</td>\n",
       "    </tr>\n",
       "    <tr>\n",
       "      <th>557398</th>\n",
       "      <td>2020-01-05</td>\n",
       "      <td>TR</td>\n",
       "      <td>Trabzon</td>\n",
       "      <td>wind gust</td>\n",
       "      <td>5</td>\n",
       "      <td>7.7</td>\n",
       "      <td>7.7</td>\n",
       "      <td>7.7</td>\n",
       "      <td>0.00</td>\n",
       "    </tr>\n",
       "    <tr>\n",
       "      <th>556674</th>\n",
       "      <td>2020-01-05</td>\n",
       "      <td>TR</td>\n",
       "      <td>Trabzon</td>\n",
       "      <td>wind-gust</td>\n",
       "      <td>5</td>\n",
       "      <td>7.7</td>\n",
       "      <td>7.7</td>\n",
       "      <td>7.7</td>\n",
       "      <td>0.00</td>\n",
       "    </tr>\n",
       "    <tr>\n",
       "      <th>549452</th>\n",
       "      <td>2020-01-05</td>\n",
       "      <td>TR</td>\n",
       "      <td>İzmit</td>\n",
       "      <td>wind gust</td>\n",
       "      <td>144</td>\n",
       "      <td>0.3</td>\n",
       "      <td>7.0</td>\n",
       "      <td>2.5</td>\n",
       "      <td>28.76</td>\n",
       "    </tr>\n",
       "    <tr>\n",
       "      <th>549009</th>\n",
       "      <td>2020-01-05</td>\n",
       "      <td>TR</td>\n",
       "      <td>İzmit</td>\n",
       "      <td>wind-gust</td>\n",
       "      <td>144</td>\n",
       "      <td>0.3</td>\n",
       "      <td>7.0</td>\n",
       "      <td>2.5</td>\n",
       "      <td>28.76</td>\n",
       "    </tr>\n",
       "  </tbody>\n",
       "</table>\n",
       "</div>"
      ],
      "text/plain": [
       "              date country       city     specie  count   min   max  median  \\\n",
       "552642  2020-01-05      TR      Adana  wind-gust     72   0.2  17.3     6.6   \n",
       "552002  2020-01-05      TR      Adana  wind gust     72   0.2  17.3     6.6   \n",
       "555981  2020-01-05      TR  Adapazarı  wind-gust     72   0.3   7.0     2.5   \n",
       "556454  2020-01-05      TR  Adapazarı  wind gust     72   0.3   7.0     2.5   \n",
       "550752  2020-01-05      TR     Ankara  wind gust     96   0.2   2.7     0.8   \n",
       "551098  2020-01-05      TR     Ankara  wind-gust     96   0.2   2.7     0.8   \n",
       "558489  2020-01-05      TR    Antakya  wind gust     18   0.2  17.3     6.6   \n",
       "557876  2020-01-05      TR    Antakya  wind-gust     18   0.2  17.3     6.6   \n",
       "555514  2020-01-05      TR  Balıkesir  wind gust     12  14.9  16.9    15.9   \n",
       "554969  2020-01-05      TR  Balıkesir  wind-gust     12  14.9  16.9    15.9   \n",
       "562720  2020-01-05      TR   Istanbul  wind-gust    504   0.8  10.8     2.7   \n",
       "563015  2020-01-05      TR   Istanbul  wind gust    504   0.8  10.8     2.7   \n",
       "557398  2020-01-05      TR    Trabzon  wind gust      5   7.7   7.7     7.7   \n",
       "556674  2020-01-05      TR    Trabzon  wind-gust      5   7.7   7.7     7.7   \n",
       "549452  2020-01-05      TR      İzmit  wind gust    144   0.3   7.0     2.5   \n",
       "549009  2020-01-05      TR      İzmit  wind-gust    144   0.3   7.0     2.5   \n",
       "\n",
       "        variance  \n",
       "552642    231.13  \n",
       "552002    231.13  \n",
       "555981     28.97  \n",
       "556454     28.97  \n",
       "550752      4.81  \n",
       "551098      4.81  \n",
       "558489    241.33  \n",
       "557876    241.33  \n",
       "555514      4.92  \n",
       "554969      4.92  \n",
       "562720     89.00  \n",
       "563015     89.00  \n",
       "557398      0.00  \n",
       "556674      0.00  \n",
       "549452     28.76  \n",
       "549009     28.76  "
      ]
     },
     "execution_count": 22,
     "metadata": {},
     "output_type": "execute_result"
    }
   ],
   "source": [
    "# merged both data and sorted them based on city\n",
    "df3 = pd.concat([df1, df2]).sort_values(by='city', ascending=True)\n",
    "# selecting a date and a city where we have both types of columns\n",
    "# for brevity\n",
    "df3[df3.date == '2020-01-05']\n",
    "# we can clearly see that the rows are duplicated so we can safely drop\n",
    "# either of them"
   ]
  },
  {
   "cell_type": "code",
   "execution_count": 23,
   "metadata": {
    "colab": {
     "base_uri": "https://localhost:8080/",
     "height": 17
    },
    "id": "n8gv9f8tsmSQ",
    "outputId": "4354800a-d5ab-44f7-a7ee-2a8cf9a5a570"
   },
   "outputs": [
    {
     "data": {
      "text/html": [
       "\n",
       "  <style>\n",
       "    pre {\n",
       "        white-space: pre-wrap;\n",
       "    }\n",
       "  </style>\n",
       "  "
      ],
      "text/plain": [
       "<IPython.core.display.HTML object>"
      ]
     },
     "metadata": {},
     "output_type": "display_data"
    }
   ],
   "source": [
    "# let's check if this is the same thing for 'wind speed' and 'wind-speed'\n",
    "df1 = df[(df.country == 'TR') & (df.specie == 'wind speed')]\n",
    "df2 = df[(df.country == 'TR') & (df.specie == 'wind-speed')]\n",
    "df3 = pd.concat([df1, df2]).sort_values(by=['date', 'city'], ascending=True)"
   ]
  },
  {
   "cell_type": "code",
   "execution_count": 24,
   "metadata": {
    "colab": {
     "base_uri": "https://localhost:8080/",
     "height": 215
    },
    "id": "9qrzOgBLtHHR",
    "outputId": "d8032023-7ad9-4ad5-cb7b-a418097b9480"
   },
   "outputs": [
    {
     "data": {
      "text/html": [
       "\n",
       "  <style>\n",
       "    pre {\n",
       "        white-space: pre-wrap;\n",
       "    }\n",
       "  </style>\n",
       "  "
      ],
      "text/plain": [
       "<IPython.core.display.HTML object>"
      ]
     },
     "metadata": {},
     "output_type": "display_data"
    },
    {
     "data": {
      "text/html": [
       "<div>\n",
       "<style scoped>\n",
       "    .dataframe tbody tr th:only-of-type {\n",
       "        vertical-align: middle;\n",
       "    }\n",
       "\n",
       "    .dataframe tbody tr th {\n",
       "        vertical-align: top;\n",
       "    }\n",
       "\n",
       "    .dataframe thead th {\n",
       "        text-align: right;\n",
       "    }\n",
       "</style>\n",
       "<table border=\"1\" class=\"dataframe\">\n",
       "  <thead>\n",
       "    <tr style=\"text-align: right;\">\n",
       "      <th></th>\n",
       "      <th>date</th>\n",
       "      <th>country</th>\n",
       "      <th>city</th>\n",
       "      <th>specie</th>\n",
       "      <th>count</th>\n",
       "      <th>min</th>\n",
       "      <th>max</th>\n",
       "      <th>median</th>\n",
       "      <th>variance</th>\n",
       "    </tr>\n",
       "  </thead>\n",
       "  <tbody>\n",
       "    <tr>\n",
       "      <th>560349</th>\n",
       "      <td>2020-01-03</td>\n",
       "      <td>TR</td>\n",
       "      <td>İzmir</td>\n",
       "      <td>wind speed</td>\n",
       "      <td>128</td>\n",
       "      <td>6.1</td>\n",
       "      <td>11.5</td>\n",
       "      <td>7.9</td>\n",
       "      <td>23.08</td>\n",
       "    </tr>\n",
       "    <tr>\n",
       "      <th>560239</th>\n",
       "      <td>2020-01-03</td>\n",
       "      <td>TR</td>\n",
       "      <td>İzmir</td>\n",
       "      <td>wind-speed</td>\n",
       "      <td>128</td>\n",
       "      <td>6.1</td>\n",
       "      <td>11.5</td>\n",
       "      <td>7.9</td>\n",
       "      <td>23.08</td>\n",
       "    </tr>\n",
       "    <tr>\n",
       "      <th>560343</th>\n",
       "      <td>2020-01-04</td>\n",
       "      <td>TR</td>\n",
       "      <td>İzmir</td>\n",
       "      <td>wind speed</td>\n",
       "      <td>192</td>\n",
       "      <td>0.5</td>\n",
       "      <td>7.9</td>\n",
       "      <td>4.3</td>\n",
       "      <td>39.33</td>\n",
       "    </tr>\n",
       "    <tr>\n",
       "      <th>560310</th>\n",
       "      <td>2020-01-04</td>\n",
       "      <td>TR</td>\n",
       "      <td>İzmir</td>\n",
       "      <td>wind-speed</td>\n",
       "      <td>192</td>\n",
       "      <td>0.5</td>\n",
       "      <td>7.9</td>\n",
       "      <td>4.3</td>\n",
       "      <td>39.33</td>\n",
       "    </tr>\n",
       "    <tr>\n",
       "      <th>560344</th>\n",
       "      <td>2020-01-05</td>\n",
       "      <td>TR</td>\n",
       "      <td>İzmir</td>\n",
       "      <td>wind speed</td>\n",
       "      <td>168</td>\n",
       "      <td>0.2</td>\n",
       "      <td>4.6</td>\n",
       "      <td>1.5</td>\n",
       "      <td>16.25</td>\n",
       "    </tr>\n",
       "    <tr>\n",
       "      <th>560254</th>\n",
       "      <td>2020-01-05</td>\n",
       "      <td>TR</td>\n",
       "      <td>İzmir</td>\n",
       "      <td>wind-speed</td>\n",
       "      <td>168</td>\n",
       "      <td>0.2</td>\n",
       "      <td>4.6</td>\n",
       "      <td>1.5</td>\n",
       "      <td>16.25</td>\n",
       "    </tr>\n",
       "  </tbody>\n",
       "</table>\n",
       "</div>"
      ],
      "text/plain": [
       "              date country   city      specie  count  min   max  median  \\\n",
       "560349  2020-01-03      TR  İzmir  wind speed    128  6.1  11.5     7.9   \n",
       "560239  2020-01-03      TR  İzmir  wind-speed    128  6.1  11.5     7.9   \n",
       "560343  2020-01-04      TR  İzmir  wind speed    192  0.5   7.9     4.3   \n",
       "560310  2020-01-04      TR  İzmir  wind-speed    192  0.5   7.9     4.3   \n",
       "560344  2020-01-05      TR  İzmir  wind speed    168  0.2   4.6     1.5   \n",
       "560254  2020-01-05      TR  İzmir  wind-speed    168  0.2   4.6     1.5   \n",
       "\n",
       "        variance  \n",
       "560349     23.08  \n",
       "560239     23.08  \n",
       "560343     39.33  \n",
       "560310     39.33  \n",
       "560344     16.25  \n",
       "560254     16.25  "
      ]
     },
     "execution_count": 24,
     "metadata": {},
     "output_type": "execute_result"
    }
   ],
   "source": [
    "df3[(df3.date.str.startswith('2020-01')) & (df3.city == 'İzmir')]\n",
    "# we can see here as well that the rows are duplicated so, we can safely drop\n",
    "# either one or the other"
   ]
  },
  {
   "cell_type": "code",
   "execution_count": 25,
   "metadata": {
    "colab": {
     "base_uri": "https://localhost:8080/",
     "height": 17
    },
    "id": "paIWJGHe3fzD",
    "outputId": "598204cf-3e5b-4384-80df-18ce94827ecd"
   },
   "outputs": [
    {
     "data": {
      "text/html": [
       "\n",
       "  <style>\n",
       "    pre {\n",
       "        white-space: pre-wrap;\n",
       "    }\n",
       "  </style>\n",
       "  "
      ],
      "text/plain": [
       "<IPython.core.display.HTML object>"
      ]
     },
     "metadata": {},
     "output_type": "display_data"
    }
   ],
   "source": [
    "def update_specie_values(old_value):\n",
    "  if old_value == 'wind gust': return 'wind-gust'\n",
    "  if old_value == 'wind speed': return 'wind-speed'\n",
    "  return old_value"
   ]
  },
  {
   "cell_type": "code",
   "execution_count": 26,
   "metadata": {
    "colab": {
     "base_uri": "https://localhost:8080/",
     "height": 85
    },
    "id": "yX8KEs5k4BUw",
    "outputId": "1376526b-aa7d-407a-a20e-70273b4d2734"
   },
   "outputs": [
    {
     "data": {
      "text/html": [
       "\n",
       "  <style>\n",
       "    pre {\n",
       "        white-space: pre-wrap;\n",
       "    }\n",
       "  </style>\n",
       "  "
      ],
      "text/plain": [
       "<IPython.core.display.HTML object>"
      ]
     },
     "metadata": {},
     "output_type": "display_data"
    },
    {
     "data": {
      "text/plain": [
       "array(['o3', 'so2', 'pressure', 'temperature', 'humidity', 'no2',\n",
       "       'wind-speed', 'wind-gust', 'precipitation', 'dew', 'co', 'pm10',\n",
       "       'pm25', 'wd', 'pm1', 'neph', 'aqi', 'pol', 'uvi', 'mepaqi'],\n",
       "      dtype=object)"
      ]
     },
     "execution_count": 26,
     "metadata": {},
     "output_type": "execute_result"
    }
   ],
   "source": [
    "df.specie.apply(update_specie_values).unique()"
   ]
  },
  {
   "cell_type": "code",
   "execution_count": 27,
   "metadata": {
    "colab": {
     "base_uri": "https://localhost:8080/",
     "height": 17
    },
    "id": "0ZjbN35Y4JZ6",
    "outputId": "ed00812d-1be8-4fcc-fa7a-51740b70c76d"
   },
   "outputs": [
    {
     "data": {
      "text/html": [
       "\n",
       "  <style>\n",
       "    pre {\n",
       "        white-space: pre-wrap;\n",
       "    }\n",
       "  </style>\n",
       "  "
      ],
      "text/plain": [
       "<IPython.core.display.HTML object>"
      ]
     },
     "metadata": {},
     "output_type": "display_data"
    }
   ],
   "source": [
    "df.specie = df.specie.apply(update_specie_values)"
   ]
  },
  {
   "cell_type": "code",
   "execution_count": 28,
   "metadata": {
    "colab": {
     "base_uri": "https://localhost:8080/",
     "height": 85
    },
    "id": "W4DCe4kD4Lnj",
    "outputId": "7f336798-8ce6-4175-a931-0bb430bde693"
   },
   "outputs": [
    {
     "data": {
      "text/html": [
       "\n",
       "  <style>\n",
       "    pre {\n",
       "        white-space: pre-wrap;\n",
       "    }\n",
       "  </style>\n",
       "  "
      ],
      "text/plain": [
       "<IPython.core.display.HTML object>"
      ]
     },
     "metadata": {},
     "output_type": "display_data"
    },
    {
     "data": {
      "text/plain": [
       "array(['o3', 'so2', 'pressure', 'temperature', 'humidity', 'no2',\n",
       "       'wind-speed', 'wind-gust', 'precipitation', 'dew', 'co', 'pm10',\n",
       "       'pm25', 'wd', 'pm1', 'neph', 'aqi', 'pol', 'uvi', 'mepaqi'],\n",
       "      dtype=object)"
      ]
     },
     "execution_count": 28,
     "metadata": {},
     "output_type": "execute_result"
    }
   ],
   "source": [
    "df.specie.unique()"
   ]
  },
  {
   "cell_type": "code",
   "execution_count": 29,
   "metadata": {
    "colab": {
     "base_uri": "https://localhost:8080/",
     "height": 34
    },
    "id": "I1mVObpn4m1g",
    "outputId": "459a2a43-9489-4cd1-c0f9-7706802b85ee"
   },
   "outputs": [
    {
     "data": {
      "text/html": [
       "\n",
       "  <style>\n",
       "    pre {\n",
       "        white-space: pre-wrap;\n",
       "    }\n",
       "  </style>\n",
       "  "
      ],
      "text/plain": [
       "<IPython.core.display.HTML object>"
      ]
     },
     "metadata": {},
     "output_type": "display_data"
    },
    {
     "data": {
      "text/plain": [
       "578226"
      ]
     },
     "execution_count": 29,
     "metadata": {},
     "output_type": "execute_result"
    }
   ],
   "source": [
    "# getting the number of rows in the data before and after removing duplicates\n",
    "n_rows_before = len(df.index)\n",
    "n_rows_before"
   ]
  },
  {
   "cell_type": "code",
   "execution_count": 30,
   "metadata": {
    "colab": {
     "base_uri": "https://localhost:8080/",
     "height": 17
    },
    "id": "4N0yndpY5NV1",
    "outputId": "3c5310dd-4210-45a0-a963-118781916520"
   },
   "outputs": [
    {
     "data": {
      "text/html": [
       "\n",
       "  <style>\n",
       "    pre {\n",
       "        white-space: pre-wrap;\n",
       "    }\n",
       "  </style>\n",
       "  "
      ],
      "text/plain": [
       "<IPython.core.display.HTML object>"
      ]
     },
     "metadata": {},
     "output_type": "display_data"
    }
   ],
   "source": [
    "df = df.drop_duplicates()"
   ]
  },
  {
   "cell_type": "code",
   "execution_count": 31,
   "metadata": {
    "colab": {
     "base_uri": "https://localhost:8080/",
     "height": 34
    },
    "id": "7ZlieMss5PES",
    "outputId": "0959ccd7-7b99-49e2-b91f-a6a5be5013ff"
   },
   "outputs": [
    {
     "data": {
      "text/html": [
       "\n",
       "  <style>\n",
       "    pre {\n",
       "        white-space: pre-wrap;\n",
       "    }\n",
       "  </style>\n",
       "  "
      ],
      "text/plain": [
       "<IPython.core.display.HTML object>"
      ]
     },
     "metadata": {},
     "output_type": "display_data"
    },
    {
     "data": {
      "text/plain": [
       "570834"
      ]
     },
     "execution_count": 31,
     "metadata": {},
     "output_type": "execute_result"
    }
   ],
   "source": [
    "n_rows_after = len(df.index)\n",
    "n_rows_after"
   ]
  },
  {
   "cell_type": "code",
   "execution_count": 32,
   "metadata": {
    "colab": {
     "base_uri": "https://localhost:8080/",
     "height": 34
    },
    "id": "WVSPUcdQ5SLv",
    "outputId": "9c13ba47-9bd7-4915-b48c-d45f82190169"
   },
   "outputs": [
    {
     "data": {
      "text/html": [
       "\n",
       "  <style>\n",
       "    pre {\n",
       "        white-space: pre-wrap;\n",
       "    }\n",
       "  </style>\n",
       "  "
      ],
      "text/plain": [
       "<IPython.core.display.HTML object>"
      ]
     },
     "metadata": {},
     "output_type": "display_data"
    },
    {
     "data": {
      "text/plain": [
       "7392"
      ]
     },
     "execution_count": 32,
     "metadata": {},
     "output_type": "execute_result"
    }
   ],
   "source": [
    "# 7392 duplicated rows found and removed\n",
    "n_rows_before - n_rows_after"
   ]
  },
  {
   "cell_type": "code",
   "execution_count": 33,
   "metadata": {
    "colab": {
     "base_uri": "https://localhost:8080/",
     "height": 289
    },
    "id": "4r-KpH_d5vpM",
    "outputId": "060dade8-9f95-4aee-b3a8-a7ebf86cdf3c"
   },
   "outputs": [
    {
     "data": {
      "text/html": [
       "\n",
       "  <style>\n",
       "    pre {\n",
       "        white-space: pre-wrap;\n",
       "    }\n",
       "  </style>\n",
       "  "
      ],
      "text/plain": [
       "<IPython.core.display.HTML object>"
      ]
     },
     "metadata": {},
     "output_type": "display_data"
    },
    {
     "name": "stdout",
     "output_type": "stream",
     "text": [
      "<class 'pandas.core.frame.DataFrame'>\n",
      "Int64Index: 570834 entries, 0 to 578225\n",
      "Data columns (total 9 columns):\n",
      " #   Column    Non-Null Count   Dtype  \n",
      "---  ------    --------------   -----  \n",
      " 0   date      570834 non-null  object \n",
      " 1   country   570834 non-null  object \n",
      " 2   city      570834 non-null  object \n",
      " 3   specie    570834 non-null  object \n",
      " 4   count     570834 non-null  int64  \n",
      " 5   min       570834 non-null  float64\n",
      " 6   max       570834 non-null  float64\n",
      " 7   median    570834 non-null  float64\n",
      " 8   variance  570834 non-null  float64\n",
      "dtypes: float64(4), int64(1), object(4)\n",
      "memory usage: 43.6+ MB\n"
     ]
    }
   ],
   "source": [
    "df.info()\n",
    "# we can see that we don't have any missing value, so, we can consider this\n",
    "# version, the clean and processed version of our dataset"
   ]
  },
  {
   "cell_type": "code",
   "execution_count": 34,
   "metadata": {
    "colab": {
     "base_uri": "https://localhost:8080/",
     "height": 17
    },
    "id": "jM42Lek2ztcE",
    "outputId": "a5fbbcde-ca38-4fbb-e5fe-bd8a5c288fd0"
   },
   "outputs": [
    {
     "data": {
      "text/html": [
       "\n",
       "  <style>\n",
       "    pre {\n",
       "        white-space: pre-wrap;\n",
       "    }\n",
       "  </style>\n",
       "  "
      ],
      "text/plain": [
       "<IPython.core.display.HTML object>"
      ]
     },
     "metadata": {},
     "output_type": "display_data"
    }
   ],
   "source": [
    "# save a clean version of the data\n",
    "TEST_AQ_DATA_FILE_DST = AIR_QUALITY_CLEAN_DATA_FOLDER / '2019Q4.csv'\n",
    "df.to_csv(TEST_AQ_DATA_FILE_DST, index=False, header=True)"
   ]
  },
  {
   "cell_type": "code",
   "execution_count": null,
   "metadata": {
    "colab": {
     "base_uri": "https://localhost:8080/",
     "height": 17
    },
    "id": "CgP1NCJC7KMC",
    "outputId": "0875f45d-73b9-4b3b-afc2-ffd5c4d324ba"
   },
   "outputs": [
    {
     "data": {
      "text/html": [
       "\n",
       "  <style>\n",
       "    pre {\n",
       "        white-space: pre-wrap;\n",
       "    }\n",
       "  </style>\n",
       "  "
      ],
      "text/plain": [
       "<IPython.core.display.HTML object>"
      ]
     },
     "metadata": {},
     "output_type": "display_data"
    }
   ],
   "source": [
    "# pd.set_option('display.max_rows', None)\n",
    "# pd.reset_option('display.max_rows')"
   ]
  },
  {
   "cell_type": "code",
   "execution_count": null,
   "metadata": {
    "colab": {
     "base_uri": "https://localhost:8080/",
     "height": 17
    },
    "id": "k-fcglZ06mZK",
    "outputId": "387943ba-4086-4cbf-d6db-75f55b1871bd"
   },
   "outputs": [
    {
     "data": {
      "text/html": [
       "\n",
       "  <style>\n",
       "    pre {\n",
       "        white-space: pre-wrap;\n",
       "    }\n",
       "  </style>\n",
       "  "
      ],
      "text/plain": [
       "<IPython.core.display.HTML object>"
      ]
     },
     "metadata": {},
     "output_type": "display_data"
    }
   ],
   "source": [
    "# and this processing should be done on all the remaining CSV files\n",
    "# df = pd.read_csv(AIR_QUALITY_RAW_DATA_FOLDER / '2020Q1.csv', comment='#')\n",
    "# df"
   ]
  },
  {
   "cell_type": "code",
   "execution_count": 35,
   "metadata": {
    "colab": {
     "base_uri": "https://localhost:8080/",
     "height": 17
    },
    "id": "c9aCYN378enr",
    "outputId": "13dffa02-c8a4-46f8-db11-760515f02fbd"
   },
   "outputs": [
    {
     "data": {
      "text/html": [
       "\n",
       "  <style>\n",
       "    pre {\n",
       "        white-space: pre-wrap;\n",
       "    }\n",
       "  </style>\n",
       "  "
      ],
      "text/plain": [
       "<IPython.core.display.HTML object>"
      ]
     },
     "metadata": {},
     "output_type": "display_data"
    }
   ],
   "source": [
    "# processing steps\n",
    "\n",
    "# - load file\n",
    "# - lowercase column names\n",
    "# - update_specie_values\n",
    "# - drop_duplicates\n",
    "# - save clean version\n",
    "\n",
    "def process_file(src_file_path, dst_file_path):\n",
    "  # check if dst_file already there, if so, skip this file\n",
    "  if dst_file_path.exists():\n",
    "    print(f'{dst_file_path} found, skipping...')\n",
    "    return\n",
    "  df = pd.read_csv(src_file_path, comment='#') # load file\n",
    "  df.columns = map(lambda x : x.lower(), df.columns) # lowercase column names\n",
    "  df.specie = df.specie.apply(update_specie_values) # update_specie_values\n",
    "  df = df.drop_duplicates() # drop_duplicates\n",
    "  df.to_csv(dst_file_path, index=False, header=True) # save clean version\n",
    "  print(f'{dst_file_path} saved.')"
   ]
  },
  {
   "cell_type": "code",
   "execution_count": 36,
   "metadata": {
    "colab": {
     "base_uri": "https://localhost:8080/",
     "height": 102
    },
    "id": "7CrtOYSU5bBR",
    "outputId": "828c1e43-4fcb-4996-fae1-f71e5a8eb3c9"
   },
   "outputs": [
    {
     "data": {
      "text/html": [
       "\n",
       "  <style>\n",
       "    pre {\n",
       "        white-space: pre-wrap;\n",
       "    }\n",
       "  </style>\n",
       "  "
      ],
      "text/plain": [
       "<IPython.core.display.HTML object>"
      ]
     },
     "metadata": {},
     "output_type": "display_data"
    },
    {
     "name": "stdout",
     "output_type": "stream",
     "text": [
      "data/air_quality/clean/2019Q4.csv found, skipping...\n",
      "data/air_quality/clean/2020Q1.csv saved.\n",
      "data/air_quality/clean/2020Q2.csv saved.\n",
      "data/air_quality/clean/2020Q3.csv saved.\n",
      "data/air_quality/clean/2020Q4.csv saved.\n"
     ]
    }
   ],
   "source": [
    "for period in periods:\n",
    "    SRC_FILE_PATH = AIR_QUALITY_RAW_DATA_FOLDER / f'{period}.csv'\n",
    "    DST_FILE_PATH = AIR_QUALITY_CLEAN_DATA_FOLDER / f'{period}.csv'\n",
    "    process_file(SRC_FILE_PATH, DST_FILE_PATH)"
   ]
  },
  {
   "cell_type": "markdown",
   "metadata": {
    "id": "XPDwc_sqP-v4"
   },
   "source": [
    "# References\n",
    "* [python - Running for loop terminal commands in Jupyter - Stack Overflow](https://stackoverflow.com/questions/46920538/running-for-loop-terminal-commands-in-jupyter/50730032)\n",
    "* [shell - How to mkdir only if a directory does not already exist? - Stack Overflow](https://stackoverflow.com/questions/793858/how-to-mkdir-only-if-a-directory-does-not-already-exist)\n",
    "* [How do I append a string to a Path in Python? - Stack Overflow](https://stackoverflow.com/questions/48190959/how-do-i-append-a-string-to-a-path-in-python)\n",
    "* [Line Wrapping in Collaboratory Google results - Stack Overflow](https://stackoverflow.com/questions/58890109/line-wrapping-in-collaboratory-google-results)\n",
    "* [python - How to see complete rows in Google Colab * Stack Overflow](https://stackoverflow.com/questions/60013721/how-to-see-complete-rows-in-google-colab)\n",
    "* [python - Pandas: Setting no. of max rows - Stack Overflow](https://stackoverflow.com/questions/16424493/pandas-setting-no-of-max-rows)"
   ]
  },
  {
   "cell_type": "markdown",
   "metadata": {
    "id": "zHzMgnyIP8GS"
   },
   "source": [
    "---"
   ]
  }
 ],
 "metadata": {
  "colab": {
   "collapsed_sections": [],
   "name": "DSAA Capstone Project (Air Quality Data).ipynb",
   "provenance": [],
   "toc_visible": true
  },
  "kernelspec": {
   "display_name": "Python 3",
   "language": "python",
   "name": "python3"
  },
  "language_info": {
   "codemirror_mode": {
    "name": "ipython",
    "version": 3
   },
   "file_extension": ".py",
   "mimetype": "text/x-python",
   "name": "python",
   "nbconvert_exporter": "python",
   "pygments_lexer": "ipython3",
   "version": "3.8.5"
  }
 },
 "nbformat": 4,
 "nbformat_minor": 4
}
