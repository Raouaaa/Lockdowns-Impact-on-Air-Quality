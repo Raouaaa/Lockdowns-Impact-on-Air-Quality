{
 "cells": [
  {
   "cell_type": "markdown",
   "metadata": {},
   "source": [
    "#   EDA\n",
    "## 1. Data preparation"
   ]
  },
  {
   "cell_type": "code",
   "execution_count": 1,
   "metadata": {},
   "outputs": [
    {
     "name": "stdout",
     "output_type": "stream",
     "text": [
      "<class 'pandas.core.frame.DataFrame'>\n",
      "RangeIndex: 249 entries, 0 to 248\n",
      "Data columns (total 2 columns):\n",
      " #   Column        Non-Null Count  Dtype \n",
      "---  ------        --------------  ----- \n",
      " 0   Country       248 non-null    object\n",
      " 1   Country name  249 non-null    object\n",
      "dtypes: object(2)\n",
      "memory usage: 4.0+ KB\n",
      "None\n",
      "<class 'pandas.core.frame.DataFrame'>\n",
      "Int64Index: 4495514 entries, 0 to 4495513\n",
      "Data columns (total 7 columns):\n",
      " #   Column        Dtype         \n",
      "---  ------        -----         \n",
      " 0   Date          datetime64[ns]\n",
      " 1   City          object        \n",
      " 2   Specie        object        \n",
      " 3   max           float64       \n",
      " 4   min           float64       \n",
      " 5   median        float64       \n",
      " 6   Country name  object        \n",
      "dtypes: datetime64[ns](1), float64(3), object(3)\n",
      "memory usage: 274.4+ MB\n"
     ]
    }
   ],
   "source": [
    "import pandas as pd\n",
    "import numpy as np\n",
    "import matplotlib.pyplot as plt\n",
    "df_countries = pd.read_html('https://en.wikipedia.org/wiki/ISO_3166-1_alpha-2')[2]\n",
    "df_countries = df_countries[['Code', 'Country name (using title case)']]\n",
    "df_countries.rename(columns={'Code':'Country','Country name (using title case)':'Country name'},inplace=True)\n",
    "df_countries.to_csv ('../Data/countries.csv', index = False, header=True)\n",
    "df_countries = pd.read_csv('../data/countries.csv')\n",
    "print(df_countries.info())\n",
    "\n",
    "\n",
    "df_2020Q1 = pd.read_csv('D:/Data Camp/Data/2020Q1.csv', skiprows = 4)\n",
    "df_2020Q2 = pd.read_csv('D:/Data Camp/Data/2020Q2.csv', skiprows = 4)\n",
    "df_2020Q3 = pd.read_csv('D:/Data Camp/Data/2020Q3.csv', skiprows = 4)\n",
    "df_2020Q4 = pd.read_csv('D:/Data Camp/Data/2020Q4.csv', skiprows = 4)\n",
    "\n",
    "df_2020 = pd.concat([df_2020Q1, df_2020Q2, df_2020Q3, df_2020Q4])\n",
    "\n",
    "\n",
    "df_2019Q1 = pd.read_csv('D:/Data Camp/Data/2019Q1.csv', skiprows = 4)\n",
    "df_2019Q2 = pd.read_csv('D:/Data Camp/Data/2019Q2.csv', skiprows = 4)\n",
    "df_2019Q3 = pd.read_csv('D:/Data Camp/Data/2019Q3.csv', skiprows = 4)\n",
    "df_2019Q4 = pd.read_csv('D:/Data Camp/Data/2019Q4.csv', skiprows = 4)\n",
    "df_2019 = pd.concat([df_2019Q1, df_2019Q2, df_2019Q3, df_2019Q4])\n",
    "\n",
    "\n",
    "df_all = pd.concat([df_2020, df_2019])\n",
    "\n",
    "df_all['Date'] = pd.to_datetime(df_all['Date'])\n",
    "\n",
    "\n",
    "df = pd.merge(df_all,df_countries, on='Country')\n",
    "df = df[['Date', 'City', 'Specie', 'max', 'min', 'median', 'Country name']]\n",
    "df.info()\n",
    "df.head()\n",
    "\n",
    "df_lockdown_dates = pd.read_csv('D:/Data Camp/Data/country_lockdown_dates.csv', engine='python')\n",
    "df_lockdown_datesJHUMatch = pd.read_csv('D:/Data Camp/Data/countryLockdowndatesJHUMatch.csv', engine='python')\n",
    "df_lockdown_dates_full = pd.concat([df_lockdown_dates, df_lockdown_datesJHUMatch])\n",
    "df_lockdown_dates_full['Date'] = pd.to_datetime(df_lockdown_dates_full['Date'])\n",
    "\n",
    "df_lockdown_dates_full.rename(columns={'Country/Region':'Country name'},inplace=True)\n",
    "df_lockdown_dates_full = df_lockdown_dates_full[['Country name','Date']]\n",
    "df_lockdown_dates_full.rename(columns={'Date':'Starting Date'},inplace=True)\n",
    "df_lockdown_dates_full.tail()\n",
    "df_final = pd.merge(df, df_lockdown_dates_full, on='Country name')\n",
    "df_final.head()\n",
    "\n",
    "df_no2 = df_final[df_final['Specie'] == 'no2']\n",
    "df_no2 = df_no2.set_index(\"Date\")"
   ]
  },
  {
   "cell_type": "code",
   "execution_count": 2,
   "metadata": {},
   "outputs": [],
   "source": [
    "def shutdownData(df, country, shutdown_date, reopen_date):\n",
    "\n",
    "    mask = ((pd.Series(map(lambda x: x.month <= shutdown_date[0], df.index.date), index=df.index)) &\n",
    "                                                ((pd.Series(map(lambda x: x.day < shutdown_date[1], df.index.date), index=df.index))))\n",
    "    #first get dates after the start date for all years\n",
    "    shutdown_time_period_df = df.loc[~mask, :]\n",
    "\n",
    "    #remove the later months\n",
    "    shutdown_time_period_df = shutdown_time_period_df.loc[shutdown_time_period_df.index.month<=reopen_date[0]]\n",
    "\n",
    "    #now get dates before the end date\n",
    "    mask2 = ((pd.Series(map(lambda x: x.month == reopen_date[0], shutdown_time_period_df.index.date), index=shutdown_time_period_df.index)) &\n",
    "                                                ((pd.Series(map(lambda x: x.day >= reopen_date[1], shutdown_time_period_df.index.date), index=shutdown_time_period_df.index))))\n",
    "\n",
    "    shutdown_time_period_df = shutdown_time_period_df.loc[~mask2, :]\n",
    "\n",
    "    shutdown_time_period_df = shutdown_time_period_df.loc[shutdown_time_period_df[\"Country name\"] == country]\n",
    "    \n",
    "    return shutdown_time_period_df"
   ]
  },
  {
   "cell_type": "code",
   "execution_count": 3,
   "metadata": {},
   "outputs": [
    {
     "data": {
      "text/html": [
       "<div>\n",
       "<style scoped>\n",
       "    .dataframe tbody tr th:only-of-type {\n",
       "        vertical-align: middle;\n",
       "    }\n",
       "\n",
       "    .dataframe tbody tr th {\n",
       "        vertical-align: top;\n",
       "    }\n",
       "\n",
       "    .dataframe thead th {\n",
       "        text-align: right;\n",
       "    }\n",
       "</style>\n",
       "<table border=\"1\" class=\"dataframe\">\n",
       "  <thead>\n",
       "    <tr style=\"text-align: right;\">\n",
       "      <th></th>\n",
       "      <th>City</th>\n",
       "      <th>Specie</th>\n",
       "      <th>max</th>\n",
       "      <th>min</th>\n",
       "      <th>median</th>\n",
       "      <th>Country name</th>\n",
       "      <th>Starting Date</th>\n",
       "    </tr>\n",
       "    <tr>\n",
       "      <th>Date</th>\n",
       "      <th></th>\n",
       "      <th></th>\n",
       "      <th></th>\n",
       "      <th></th>\n",
       "      <th></th>\n",
       "      <th></th>\n",
       "      <th></th>\n",
       "    </tr>\n",
       "  </thead>\n",
       "  <tbody>\n",
       "    <tr>\n",
       "      <th>2020-01-29</th>\n",
       "      <td>Thrissur</td>\n",
       "      <td>no2</td>\n",
       "      <td>13.7</td>\n",
       "      <td>8.1</td>\n",
       "      <td>10.7</td>\n",
       "      <td>India</td>\n",
       "      <td>2020-03-24</td>\n",
       "    </tr>\n",
       "    <tr>\n",
       "      <th>2020-04-03</th>\n",
       "      <td>Thrissur</td>\n",
       "      <td>no2</td>\n",
       "      <td>2.6</td>\n",
       "      <td>0.1</td>\n",
       "      <td>1.1</td>\n",
       "      <td>India</td>\n",
       "      <td>2020-03-24</td>\n",
       "    </tr>\n",
       "    <tr>\n",
       "      <th>2020-03-30</th>\n",
       "      <td>Thrissur</td>\n",
       "      <td>no2</td>\n",
       "      <td>4.6</td>\n",
       "      <td>1.6</td>\n",
       "      <td>4.2</td>\n",
       "      <td>India</td>\n",
       "      <td>2020-03-24</td>\n",
       "    </tr>\n",
       "    <tr>\n",
       "      <th>2020-03-31</th>\n",
       "      <td>Thrissur</td>\n",
       "      <td>no2</td>\n",
       "      <td>2.8</td>\n",
       "      <td>1.6</td>\n",
       "      <td>2.5</td>\n",
       "      <td>India</td>\n",
       "      <td>2020-03-24</td>\n",
       "    </tr>\n",
       "    <tr>\n",
       "      <th>2020-04-01</th>\n",
       "      <td>Thrissur</td>\n",
       "      <td>no2</td>\n",
       "      <td>2.7</td>\n",
       "      <td>0.1</td>\n",
       "      <td>2.4</td>\n",
       "      <td>India</td>\n",
       "      <td>2020-03-24</td>\n",
       "    </tr>\n",
       "    <tr>\n",
       "      <th>...</th>\n",
       "      <td>...</td>\n",
       "      <td>...</td>\n",
       "      <td>...</td>\n",
       "      <td>...</td>\n",
       "      <td>...</td>\n",
       "      <td>...</td>\n",
       "      <td>...</td>\n",
       "    </tr>\n",
       "    <tr>\n",
       "      <th>2019-08-08</th>\n",
       "      <td>Kolkata</td>\n",
       "      <td>no2</td>\n",
       "      <td>20.3</td>\n",
       "      <td>3.7</td>\n",
       "      <td>9.8</td>\n",
       "      <td>India</td>\n",
       "      <td>2020-03-24</td>\n",
       "    </tr>\n",
       "    <tr>\n",
       "      <th>2019-08-10</th>\n",
       "      <td>Kolkata</td>\n",
       "      <td>no2</td>\n",
       "      <td>51.5</td>\n",
       "      <td>5.0</td>\n",
       "      <td>12.3</td>\n",
       "      <td>India</td>\n",
       "      <td>2020-03-24</td>\n",
       "    </tr>\n",
       "    <tr>\n",
       "      <th>2019-08-14</th>\n",
       "      <td>Kolkata</td>\n",
       "      <td>no2</td>\n",
       "      <td>25.9</td>\n",
       "      <td>3.7</td>\n",
       "      <td>9.2</td>\n",
       "      <td>India</td>\n",
       "      <td>2020-03-24</td>\n",
       "    </tr>\n",
       "    <tr>\n",
       "      <th>2019-07-01</th>\n",
       "      <td>Kolkata</td>\n",
       "      <td>no2</td>\n",
       "      <td>24.0</td>\n",
       "      <td>4.2</td>\n",
       "      <td>10.7</td>\n",
       "      <td>India</td>\n",
       "      <td>2020-03-24</td>\n",
       "    </tr>\n",
       "    <tr>\n",
       "      <th>2019-08-09</th>\n",
       "      <td>Kolkata</td>\n",
       "      <td>no2</td>\n",
       "      <td>27.0</td>\n",
       "      <td>5.7</td>\n",
       "      <td>12.3</td>\n",
       "      <td>India</td>\n",
       "      <td>2020-03-24</td>\n",
       "    </tr>\n",
       "  </tbody>\n",
       "</table>\n",
       "<p>6668 rows × 7 columns</p>\n",
       "</div>"
      ],
      "text/plain": [
       "                City Specie   max  min  median Country name Starting Date\n",
       "Date                                                                     \n",
       "2020-01-29  Thrissur    no2  13.7  8.1    10.7        India    2020-03-24\n",
       "2020-04-03  Thrissur    no2   2.6  0.1     1.1        India    2020-03-24\n",
       "2020-03-30  Thrissur    no2   4.6  1.6     4.2        India    2020-03-24\n",
       "2020-03-31  Thrissur    no2   2.8  1.6     2.5        India    2020-03-24\n",
       "2020-04-01  Thrissur    no2   2.7  0.1     2.4        India    2020-03-24\n",
       "...              ...    ...   ...  ...     ...          ...           ...\n",
       "2019-08-08   Kolkata    no2  20.3  3.7     9.8        India    2020-03-24\n",
       "2019-08-10   Kolkata    no2  51.5  5.0    12.3        India    2020-03-24\n",
       "2019-08-14   Kolkata    no2  25.9  3.7     9.2        India    2020-03-24\n",
       "2019-07-01   Kolkata    no2  24.0  4.2    10.7        India    2020-03-24\n",
       "2019-08-09   Kolkata    no2  27.0  5.7    12.3        India    2020-03-24\n",
       "\n",
       "[6668 rows x 7 columns]"
      ]
     },
     "execution_count": 3,
     "metadata": {},
     "output_type": "execute_result"
    }
   ],
   "source": [
    "india_no2_shutdown_df = shutdownData(df_no2, \"India\", (3, 24), (8, 18))\n",
    "india_no2_shutdown_df "
   ]
  },
  {
   "cell_type": "code",
   "execution_count": 4,
   "metadata": {},
   "outputs": [
    {
     "data": {
      "text/html": [
       "<div>\n",
       "<style scoped>\n",
       "    .dataframe tbody tr th:only-of-type {\n",
       "        vertical-align: middle;\n",
       "    }\n",
       "\n",
       "    .dataframe tbody tr th {\n",
       "        vertical-align: top;\n",
       "    }\n",
       "\n",
       "    .dataframe thead th {\n",
       "        text-align: right;\n",
       "    }\n",
       "</style>\n",
       "<table border=\"1\" class=\"dataframe\">\n",
       "  <thead>\n",
       "    <tr style=\"text-align: right;\">\n",
       "      <th></th>\n",
       "      <th>max</th>\n",
       "      <th>min</th>\n",
       "      <th>median</th>\n",
       "    </tr>\n",
       "    <tr>\n",
       "      <th>Date</th>\n",
       "      <th></th>\n",
       "      <th></th>\n",
       "      <th></th>\n",
       "    </tr>\n",
       "  </thead>\n",
       "  <tbody>\n",
       "    <tr>\n",
       "      <th>2019</th>\n",
       "      <td>35.499860</td>\n",
       "      <td>4.048865</td>\n",
       "      <td>10.766888</td>\n",
       "    </tr>\n",
       "    <tr>\n",
       "      <th>2020</th>\n",
       "      <td>26.887359</td>\n",
       "      <td>2.101288</td>\n",
       "      <td>6.726886</td>\n",
       "    </tr>\n",
       "  </tbody>\n",
       "</table>\n",
       "</div>"
      ],
      "text/plain": [
       "            max       min     median\n",
       "Date                                \n",
       "2019  35.499860  4.048865  10.766888\n",
       "2020  26.887359  2.101288   6.726886"
      ]
     },
     "execution_count": 4,
     "metadata": {},
     "output_type": "execute_result"
    }
   ],
   "source": [
    "bar_plot_info = india_no2_shutdown_df .groupby(india_no2_shutdown_df.index.year).mean()\n",
    "bar_plot_info"
   ]
  },
  {
   "cell_type": "code",
   "execution_count": 5,
   "metadata": {},
   "outputs": [],
   "source": [
    "Attributes =list(bar_plot_info)\n",
    "AttNo = len(Attributes)"
   ]
  },
  {
   "cell_type": "code",
   "execution_count": 6,
   "metadata": {},
   "outputs": [
    {
     "data": {
      "text/plain": [
       "[26.88735873850188, 2.1012877792378717, 6.726885676741118, 26.88735873850188]"
      ]
     },
     "execution_count": 6,
     "metadata": {},
     "output_type": "execute_result"
    }
   ],
   "source": [
    "values = bar_plot_info.iloc[1].tolist()\n",
    "values += values [:1]\n",
    "values"
   ]
  },
  {
   "cell_type": "code",
   "execution_count": 7,
   "metadata": {},
   "outputs": [],
   "source": [
    "angles = [n / float(AttNo) * 2 * 3.14 for n in range(AttNo)]\n",
    "angles += angles [:1]"
   ]
  },
  {
   "cell_type": "code",
   "execution_count": 8,
   "metadata": {},
   "outputs": [],
   "source": [
    "values2 = bar_plot_info.iloc[0].tolist()\n",
    "values2 += values2 [:1]\n",
    "\n",
    "angles2 = [n / float(AttNo) * 2 * 3.14 for n in range(AttNo)]\n",
    "angles2 += angles2 [:1]"
   ]
  },
  {
   "cell_type": "code",
   "execution_count": 9,
   "metadata": {},
   "outputs": [
    {
     "data": {
      "image/png": "[encoded data removed]",
      "text/plain": [
       "<Figure size 432x288 with 1 Axes>"
      ]
     },
     "metadata": {
      "needs_background": "light"
     },
     "output_type": "display_data"
    }
   ],
   "source": [
    "ax = plt.subplot(111, polar=True)\n",
    "\n",
    "plt.xticks(angles[:-1],Attributes)\n",
    "\n",
    "ax.plot(angles,values)\n",
    "ax.fill(angles, values, 'teal', alpha=0.1)\n",
    "\n",
    "ax.plot(angles2,values2)\n",
    "ax.fill(angles2, values2, 'red', alpha=0.1)\n",
    "\n",
    "#Rather than use a title, individual text points are added\n",
    "plt.figtext(0.2,0.9,\"2019\",color=\"red\")\n",
    "plt.figtext(0.2,0.85,\"v\")\n",
    "plt.figtext(0.2,0.8,\"2020\",color=\"teal\")\n",
    "plt.show()"
   ]
  },
  {
   "cell_type": "code",
   "execution_count": 10,
   "metadata": {
    "scrolled": true
   },
   "outputs": [
    {
     "data": {
      "image/png": "[encoded data removed]",
      "text/plain": [
       "<Figure size 432x288 with 1 Axes>"
      ]
     },
     "metadata": {
      "needs_background": "light"
     },
     "output_type": "display_data"
    }
   ],
   "source": [
    "bar_plot_info.plot(kind=\"bar\", y=\"median\", legend=None)\n",
    "plt.ylabel(\"Median no2 ub/m3\")\n",
    "plt.title(\"India Air Quality - no2 Average Median\")\n",
    "plt.savefig(\"D:/Data Camp/Data/Mumbai/India_no2median.png\")"
   ]
  },
  {
   "cell_type": "code",
   "execution_count": 11,
   "metadata": {},
   "outputs": [
    {
     "data": {
      "image/png": "[encoded data removed]",
      "text/plain": [
       "<Figure size 432x288 with 1 Axes>"
      ]
     },
     "metadata": {
      "needs_background": "light"
     },
     "output_type": "display_data"
    }
   ],
   "source": [
    "IN_2020_no2_df = df_no2.loc[(df_no2.index.year == 2020) & (df_no2[\"City\"] == \"Mumbai\")]\n",
    "IN_line_axes = IN_2020_no2_df.plot(kind=\"line\", y=\"median\", legend=None)\n",
    "#set titles, axes labels\n",
    "IN_line_axes.set_title(\"India (Mumbai) Air Quality 2020 - NO2\")\n",
    "IN_line_axes.set_ylabel(\"NO2 Average Median (ug/m3)\")\n",
    "IN_line_axes.set_xlabel(\"Month\")\n",
    "\n",
    "IN_line_axes.get_figure().savefig(\"D:/Data Camp/Data/Mumbai/IN_NO2_2020_line_plot.png\")"
   ]
  },
  {
   "cell_type": "code",
   "execution_count": null,
   "metadata": {},
   "outputs": [],
   "source": []
  }
 ],
 "metadata": {
  "kernelspec": {
   "display_name": "Python 3",
   "language": "python",
   "name": "python3"
  },
  "language_info": {
   "codemirror_mode": {
    "name": "ipython",
    "version": 3
   },
   "file_extension": ".py",
   "mimetype": "text/x-python",
   "name": "python",
   "nbconvert_exporter": "python",
   "pygments_lexer": "ipython3",
   "version": "3.8.8"
  }
 },
 "nbformat": 4,
 "nbformat_minor": 4
}
